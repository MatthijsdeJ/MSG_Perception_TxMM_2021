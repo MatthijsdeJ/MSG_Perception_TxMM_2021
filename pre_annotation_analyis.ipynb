{
 "cells": [
  {
   "cell_type": "code",
   "execution_count": 1,
   "metadata": {},
   "outputs": [],
   "source": [
    "import pandas as pd\n",
    "import numpy as np\n",
    "import matplotlib.pyplot as plt\n",
    "from IPython.display import display, HTML\n",
    "import sklearn as skl"
   ]
  },
  {
   "cell_type": "markdown",
   "metadata": {},
   "source": [
    "# Analysis"
   ]
  },
  {
   "cell_type": "markdown",
   "metadata": {},
   "source": [
    "## 2008-2012"
   ]
  },
  {
   "cell_type": "code",
   "execution_count": 2,
   "metadata": {},
   "outputs": [
    {
     "data": {
      "text/html": [
       "<div>\n",
       "<style scoped>\n",
       "    .dataframe tbody tr th:only-of-type {\n",
       "        vertical-align: middle;\n",
       "    }\n",
       "\n",
       "    .dataframe tbody tr th {\n",
       "        vertical-align: top;\n",
       "    }\n",
       "\n",
       "    .dataframe thead th {\n",
       "        text-align: right;\n",
       "    }\n",
       "</style>\n",
       "<table border=\"1\" class=\"dataframe\">\n",
       "  <thead>\n",
       "    <tr style=\"text-align: right;\">\n",
       "      <th></th>\n",
       "      <th>body</th>\n",
       "      <th>match</th>\n",
       "      <th>author</th>\n",
       "      <th>score</th>\n",
       "      <th>subreddit</th>\n",
       "      <th>time</th>\n",
       "      <th>month</th>\n",
       "      <th>year</th>\n",
       "    </tr>\n",
       "  </thead>\n",
       "  <tbody>\n",
       "    <tr>\n",
       "      <th>0</th>\n",
       "      <td>Well the noodles contain MSG. I would use the ...</td>\n",
       "      <td>MSG</td>\n",
       "      <td>Jkins20</td>\n",
       "      <td>-5</td>\n",
       "      <td>Cooking</td>\n",
       "      <td>2012-05-10 02:29:15 UTC</td>\n",
       "      <td>5</td>\n",
       "      <td>2012</td>\n",
       "    </tr>\n",
       "    <tr>\n",
       "      <th>1</th>\n",
       "      <td>I'm convinced Knorr is secretly holding Marco'...</td>\n",
       "      <td>MSG</td>\n",
       "      <td>EndlessAutumn</td>\n",
       "      <td>5</td>\n",
       "      <td>Cooking</td>\n",
       "      <td>2012-10-19 15:36:52 UTC</td>\n",
       "      <td>10</td>\n",
       "      <td>2012</td>\n",
       "    </tr>\n",
       "    <tr>\n",
       "      <th>2</th>\n",
       "      <td>MSG</td>\n",
       "      <td>MSG</td>\n",
       "      <td>ameoba</td>\n",
       "      <td>1</td>\n",
       "      <td>Cooking</td>\n",
       "      <td>2012-01-20 06:38:59 UTC</td>\n",
       "      <td>1</td>\n",
       "      <td>2012</td>\n",
       "    </tr>\n",
       "    <tr>\n",
       "      <th>3</th>\n",
       "      <td>I worked in a Chinese restaurant one summer &amp;a...</td>\n",
       "      <td>MSG</td>\n",
       "      <td>ameoba</td>\n",
       "      <td>1</td>\n",
       "      <td>Cooking</td>\n",
       "      <td>2012-06-12 02:36:10 UTC</td>\n",
       "      <td>6</td>\n",
       "      <td>2012</td>\n",
       "    </tr>\n",
       "    <tr>\n",
       "      <th>4</th>\n",
       "      <td>I'm not sensitive to MSG, but I still try to a...</td>\n",
       "      <td>MSG</td>\n",
       "      <td>meohmy13</td>\n",
       "      <td>2</td>\n",
       "      <td>Cooking</td>\n",
       "      <td>2012-02-16 21:06:44 UTC</td>\n",
       "      <td>2</td>\n",
       "      <td>2012</td>\n",
       "    </tr>\n",
       "    <tr>\n",
       "      <th>...</th>\n",
       "      <td>...</td>\n",
       "      <td>...</td>\n",
       "      <td>...</td>\n",
       "      <td>...</td>\n",
       "      <td>...</td>\n",
       "      <td>...</td>\n",
       "      <td>...</td>\n",
       "      <td>...</td>\n",
       "    </tr>\n",
       "    <tr>\n",
       "      <th>708</th>\n",
       "      <td>As do so many negative/positive things have a ...</td>\n",
       "      <td>MSG</td>\n",
       "      <td>jeffois</td>\n",
       "      <td>1</td>\n",
       "      <td>Cooking</td>\n",
       "      <td>2012-05-27 20:32:11 UTC</td>\n",
       "      <td>5</td>\n",
       "      <td>2012</td>\n",
       "    </tr>\n",
       "    <tr>\n",
       "      <th>709</th>\n",
       "      <td>Velveeta? Hell to the no.\\n\\nHormel Beanless C...</td>\n",
       "      <td>Monosodium Glutamate</td>\n",
       "      <td>tinyberlin</td>\n",
       "      <td>5</td>\n",
       "      <td>recipes</td>\n",
       "      <td>2012-09-22 10:49:18 UTC</td>\n",
       "      <td>9</td>\n",
       "      <td>2012</td>\n",
       "    </tr>\n",
       "    <tr>\n",
       "      <th>710</th>\n",
       "      <td>I agree - stick with a soup, preferably one wi...</td>\n",
       "      <td>monosodium glutamate</td>\n",
       "      <td>JansSushiBar</td>\n",
       "      <td>1</td>\n",
       "      <td>Cooking</td>\n",
       "      <td>2012-04-16 14:07:14 UTC</td>\n",
       "      <td>4</td>\n",
       "      <td>2012</td>\n",
       "    </tr>\n",
       "    <tr>\n",
       "      <th>711</th>\n",
       "      <td>This is not as pretty as stock, but it's very ...</td>\n",
       "      <td>msg</td>\n",
       "      <td>xnihil0zer0</td>\n",
       "      <td>1</td>\n",
       "      <td>Cooking</td>\n",
       "      <td>2012-09-26 06:11:45 UTC</td>\n",
       "      <td>9</td>\n",
       "      <td>2012</td>\n",
       "    </tr>\n",
       "    <tr>\n",
       "      <th>712</th>\n",
       "      <td>MSG exists naturally in tomatoes, along with o...</td>\n",
       "      <td>MSG</td>\n",
       "      <td>angryformorebacon</td>\n",
       "      <td>3</td>\n",
       "      <td>Cooking</td>\n",
       "      <td>2012-05-13 03:37:52 UTC</td>\n",
       "      <td>5</td>\n",
       "      <td>2012</td>\n",
       "    </tr>\n",
       "  </tbody>\n",
       "</table>\n",
       "<p>713 rows × 8 columns</p>\n",
       "</div>"
      ],
      "text/plain": [
       "                                                  body                 match  \\\n",
       "0    Well the noodles contain MSG. I would use the ...                   MSG   \n",
       "1    I'm convinced Knorr is secretly holding Marco'...                   MSG   \n",
       "2                                                  MSG                   MSG   \n",
       "3    I worked in a Chinese restaurant one summer &a...                   MSG   \n",
       "4    I'm not sensitive to MSG, but I still try to a...                   MSG   \n",
       "..                                                 ...                   ...   \n",
       "708  As do so many negative/positive things have a ...                   MSG   \n",
       "709  Velveeta? Hell to the no.\\n\\nHormel Beanless C...  Monosodium Glutamate   \n",
       "710  I agree - stick with a soup, preferably one wi...  monosodium glutamate   \n",
       "711  This is not as pretty as stock, but it's very ...                   msg   \n",
       "712  MSG exists naturally in tomatoes, along with o...                   MSG   \n",
       "\n",
       "                author  score subreddit                     time  month  year  \n",
       "0              Jkins20     -5   Cooking  2012-05-10 02:29:15 UTC      5  2012  \n",
       "1        EndlessAutumn      5   Cooking  2012-10-19 15:36:52 UTC     10  2012  \n",
       "2               ameoba      1   Cooking  2012-01-20 06:38:59 UTC      1  2012  \n",
       "3               ameoba      1   Cooking  2012-06-12 02:36:10 UTC      6  2012  \n",
       "4             meohmy13      2   Cooking  2012-02-16 21:06:44 UTC      2  2012  \n",
       "..                 ...    ...       ...                      ...    ...   ...  \n",
       "708            jeffois      1   Cooking  2012-05-27 20:32:11 UTC      5  2012  \n",
       "709         tinyberlin      5   recipes  2012-09-22 10:49:18 UTC      9  2012  \n",
       "710       JansSushiBar      1   Cooking  2012-04-16 14:07:14 UTC      4  2012  \n",
       "711        xnihil0zer0      1   Cooking  2012-09-26 06:11:45 UTC      9  2012  \n",
       "712  angryformorebacon      3   Cooking  2012-05-13 03:37:52 UTC      5  2012  \n",
       "\n",
       "[713 rows x 8 columns]"
      ]
     },
     "execution_count": 2,
     "metadata": {},
     "output_type": "execute_result"
    }
   ],
   "source": [
    "data_2008 = pd.read_csv('Preprocessed_Data/2008-2012.csv')\n",
    "data_2008"
   ]
  },
  {
   "cell_type": "markdown",
   "metadata": {},
   "source": [
    "Inspecting the names used for MSG:"
   ]
  },
  {
   "cell_type": "code",
   "execution_count": 3,
   "metadata": {},
   "outputs": [
    {
     "data": {
      "text/plain": [
       "Text(0.5, 1.0, 'Frequency of MSG terms in 2018-2012.')"
      ]
     },
     "execution_count": 3,
     "metadata": {},
     "output_type": "execute_result"
    },
    {
     "data": {
      "image/png": "[encoded data removed]",
      "text/plain": [
       "<Figure size 432x288 with 1 Axes>"
      ]
     },
     "metadata": {
      "needs_background": "light"
     },
     "output_type": "display_data"
    }
   ],
   "source": [
    "name_freq = data_2008['match'].value_counts()\n",
    "name_freq\n",
    "plt.bar(name_freq.index,name_freq)\n",
    "plt.xticks(rotation=45, ha=\"right\")\n",
    "plt.title('Frequency of MSG terms in 2018-2012.')"
   ]
  },
  {
   "cell_type": "markdown",
   "metadata": {},
   "source": [
    "Inspecting the most frequent authors:"
   ]
  },
  {
   "cell_type": "code",
   "execution_count": 4,
   "metadata": {},
   "outputs": [
    {
     "data": {
      "text/plain": [
       "BattleHall          9\n",
       "ReallyEvilCanine    8\n",
       "Bran_Solo           8\n",
       "smacksaw            7\n",
       "dtwhitecp           7\n",
       "                   ..\n",
       "duovigintillion     1\n",
       "RoseHelene          1\n",
       "Tomuchan            1\n",
       "MrJMaxted0291       1\n",
       "foxpawz             1\n",
       "Name: author, Length: 486, dtype: int64"
      ]
     },
     "execution_count": 4,
     "metadata": {},
     "output_type": "execute_result"
    }
   ],
   "source": [
    "name_freq = data_2008['author'].value_counts()\n",
    "name_freq"
   ]
  },
  {
   "cell_type": "markdown",
   "metadata": {},
   "source": [
    "Inspecting the comment score distribution:"
   ]
  },
  {
   "cell_type": "code",
   "execution_count": 5,
   "metadata": {},
   "outputs": [
    {
     "data": {
      "text/plain": [
       "Text(0.5, 1.0, 'Histogram of scores of comments mentioning MSG in 2008-2012.')"
      ]
     },
     "execution_count": 5,
     "metadata": {},
     "output_type": "execute_result"
    },
    {
     "data": {
      "image/png": "[encoded data removed]",
      "text/plain": [
       "<Figure size 432x288 with 1 Axes>"
      ]
     },
     "metadata": {
      "needs_background": "light"
     },
     "output_type": "display_data"
    }
   ],
   "source": [
    "plt.hist(data_2008['score'],bins=40)\n",
    "plt.title('Histogram of scores of comments mentioning MSG in 2008-2012.')"
   ]
  },
  {
   "cell_type": "markdown",
   "metadata": {},
   "source": [
    "Inspecting the subreddit frequencies:"
   ]
  },
  {
   "cell_type": "code",
   "execution_count": 6,
   "metadata": {},
   "outputs": [
    {
     "data": {
      "text/plain": [
       "Text(0.5, 1.0, 'Frequency of comments mentioning MSG per subreddits in 2008-2012.')"
      ]
     },
     "execution_count": 6,
     "metadata": {},
     "output_type": "execute_result"
    },
    {
     "data": {
      "image/png": "[encoded data removed]",
      "text/plain": [
       "<Figure size 432x288 with 1 Axes>"
      ]
     },
     "metadata": {
      "needs_background": "light"
     },
     "output_type": "display_data"
    }
   ],
   "source": [
    "subreddit_freq = data_2008['subreddit'].value_counts()\n",
    "subreddit_freq\n",
    "plt.bar(subreddit_freq.index,subreddit_freq)\n",
    "plt.xticks(rotation=45, ha=\"right\")\n",
    "plt.title('Frequency of comments mentioning MSG per subreddits in 2008-2012.')"
   ]
  },
  {
   "cell_type": "markdown",
   "metadata": {},
   "source": [
    "Inspecting the frequency per month:"
   ]
  },
  {
   "cell_type": "code",
   "execution_count": 21,
   "metadata": {},
   "outputs": [
    {
     "data": {
      "image/png": "[encoded data removed]",
      "text/plain": [
       "<Figure size 432x288 with 1 Axes>"
      ]
     },
     "metadata": {
      "needs_background": "light"
     },
     "output_type": "display_data"
    }
   ],
   "source": [
    "data_2008_monthly = (data_2008['year']-2008)*12 + data_2008['month']\n",
    "month_freq = data_2008_monthly.value_counts()\n",
    "month_freq\n",
    "plt.bar(month_freq.index,month_freq)\n",
    "plt.xticks(range(month_freq.index.sort_values()[-1])[1::3],rotation=90, ha=\"right\",size=12)\n",
    "plt.title('Frequency of Comments Mentioning MSG per Month in 2008-2012.')\n",
    "plt.xlabel(\"Month\")\n",
    "plt.ylabel(\"Frequency\")\n",
    "ax = plt.gca()\n",
    "plt.show()"
   ]
  },
  {
   "cell_type": "code",
   "execution_count": 8,
   "metadata": {},
   "outputs": [
    {
     "data": {
      "text/html": [
       "<div>\n",
       "<style scoped>\n",
       "    .dataframe tbody tr th:only-of-type {\n",
       "        vertical-align: middle;\n",
       "    }\n",
       "\n",
       "    .dataframe tbody tr th {\n",
       "        vertical-align: top;\n",
       "    }\n",
       "\n",
       "    .dataframe thead th {\n",
       "        text-align: right;\n",
       "    }\n",
       "</style>\n",
       "<table border=\"1\" class=\"dataframe\">\n",
       "  <thead>\n",
       "    <tr style=\"text-align: right;\">\n",
       "      <th></th>\n",
       "      <th>body</th>\n",
       "      <th>match</th>\n",
       "      <th>author</th>\n",
       "      <th>score</th>\n",
       "      <th>subreddit</th>\n",
       "      <th>time</th>\n",
       "      <th>month</th>\n",
       "      <th>year</th>\n",
       "    </tr>\n",
       "  </thead>\n",
       "  <tbody>\n",
       "    <tr>\n",
       "      <th>22</th>\n",
       "      <td>Have you contacted Thrifty Foods? They probabl...</td>\n",
       "      <td>MSG</td>\n",
       "      <td>tsdguy</td>\n",
       "      <td>5</td>\n",
       "      <td>Cooking</td>\n",
       "      <td>2010-12-15 23:43:38 UTC</td>\n",
       "      <td>12</td>\n",
       "      <td>2010</td>\n",
       "    </tr>\n",
       "    <tr>\n",
       "      <th>24</th>\n",
       "      <td>There isn't any real evidence that MSG is bad ...</td>\n",
       "      <td>MSG</td>\n",
       "      <td>xen0cide</td>\n",
       "      <td>1</td>\n",
       "      <td>Cooking</td>\n",
       "      <td>2010-12-04 12:26:12 UTC</td>\n",
       "      <td>12</td>\n",
       "      <td>2010</td>\n",
       "    </tr>\n",
       "    <tr>\n",
       "      <th>25</th>\n",
       "      <td>I am a MSG fan too. Almost all savory dishes b...</td>\n",
       "      <td>MSG</td>\n",
       "      <td>VicinSea</td>\n",
       "      <td>1</td>\n",
       "      <td>Cooking</td>\n",
       "      <td>2010-12-15 16:49:48 UTC</td>\n",
       "      <td>12</td>\n",
       "      <td>2010</td>\n",
       "    </tr>\n",
       "    <tr>\n",
       "      <th>27</th>\n",
       "      <td>People do have the right to refuse to eat it, ...</td>\n",
       "      <td>MSG</td>\n",
       "      <td>needsmorecoffee</td>\n",
       "      <td>1</td>\n",
       "      <td>Cooking</td>\n",
       "      <td>2010-12-15 16:00:31 UTC</td>\n",
       "      <td>12</td>\n",
       "      <td>2010</td>\n",
       "    </tr>\n",
       "    <tr>\n",
       "      <th>28</th>\n",
       "      <td>I've tasted the yeast stuff in the factory pur...</td>\n",
       "      <td>MSG</td>\n",
       "      <td>bananasinpyamas</td>\n",
       "      <td>1</td>\n",
       "      <td>Cooking</td>\n",
       "      <td>2010-12-18 18:42:16 UTC</td>\n",
       "      <td>12</td>\n",
       "      <td>2010</td>\n",
       "    </tr>\n",
       "    <tr>\n",
       "      <th>...</th>\n",
       "      <td>...</td>\n",
       "      <td>...</td>\n",
       "      <td>...</td>\n",
       "      <td>...</td>\n",
       "      <td>...</td>\n",
       "      <td>...</td>\n",
       "      <td>...</td>\n",
       "      <td>...</td>\n",
       "    </tr>\n",
       "    <tr>\n",
       "      <th>279</th>\n",
       "      <td>Someone else I was talking to was lumping msg ...</td>\n",
       "      <td>msg</td>\n",
       "      <td>dharmon555</td>\n",
       "      <td>3</td>\n",
       "      <td>Cooking</td>\n",
       "      <td>2010-12-15 15:32:36 UTC</td>\n",
       "      <td>12</td>\n",
       "      <td>2010</td>\n",
       "    </tr>\n",
       "    <tr>\n",
       "      <th>284</th>\n",
       "      <td>I get massive upset stomachs with even the lit...</td>\n",
       "      <td>MSG</td>\n",
       "      <td>RevLoki</td>\n",
       "      <td>1</td>\n",
       "      <td>Cooking</td>\n",
       "      <td>2010-12-15 14:53:51 UTC</td>\n",
       "      <td>12</td>\n",
       "      <td>2010</td>\n",
       "    </tr>\n",
       "    <tr>\n",
       "      <th>302</th>\n",
       "      <td>The problem with MSG is that it is sometimes u...</td>\n",
       "      <td>MSG</td>\n",
       "      <td>rhiz0me</td>\n",
       "      <td>1</td>\n",
       "      <td>Cooking</td>\n",
       "      <td>2010-12-15 16:46:41 UTC</td>\n",
       "      <td>12</td>\n",
       "      <td>2010</td>\n",
       "    </tr>\n",
       "    <tr>\n",
       "      <th>343</th>\n",
       "      <td>Just let us know if you ever take part in a do...</td>\n",
       "      <td>MSG</td>\n",
       "      <td>dtwhitecp</td>\n",
       "      <td>1</td>\n",
       "      <td>Cooking</td>\n",
       "      <td>2010-12-15 23:35:33 UTC</td>\n",
       "      <td>12</td>\n",
       "      <td>2010</td>\n",
       "    </tr>\n",
       "    <tr>\n",
       "      <th>475</th>\n",
       "      <td>I used to think MSG was the cause of my migrai...</td>\n",
       "      <td>MSG</td>\n",
       "      <td>undrway_shft_colors</td>\n",
       "      <td>2</td>\n",
       "      <td>Cooking</td>\n",
       "      <td>2010-12-15 15:29:13 UTC</td>\n",
       "      <td>12</td>\n",
       "      <td>2010</td>\n",
       "    </tr>\n",
       "  </tbody>\n",
       "</table>\n",
       "<p>107 rows × 8 columns</p>\n",
       "</div>"
      ],
      "text/plain": [
       "                                                  body match  \\\n",
       "22   Have you contacted Thrifty Foods? They probabl...   MSG   \n",
       "24   There isn't any real evidence that MSG is bad ...   MSG   \n",
       "25   I am a MSG fan too. Almost all savory dishes b...   MSG   \n",
       "27   People do have the right to refuse to eat it, ...   MSG   \n",
       "28   I've tasted the yeast stuff in the factory pur...   MSG   \n",
       "..                                                 ...   ...   \n",
       "279  Someone else I was talking to was lumping msg ...   msg   \n",
       "284  I get massive upset stomachs with even the lit...   MSG   \n",
       "302  The problem with MSG is that it is sometimes u...   MSG   \n",
       "343  Just let us know if you ever take part in a do...   MSG   \n",
       "475  I used to think MSG was the cause of my migrai...   MSG   \n",
       "\n",
       "                  author  score subreddit                     time  month  \\\n",
       "22                tsdguy      5   Cooking  2010-12-15 23:43:38 UTC     12   \n",
       "24              xen0cide      1   Cooking  2010-12-04 12:26:12 UTC     12   \n",
       "25              VicinSea      1   Cooking  2010-12-15 16:49:48 UTC     12   \n",
       "27       needsmorecoffee      1   Cooking  2010-12-15 16:00:31 UTC     12   \n",
       "28       bananasinpyamas      1   Cooking  2010-12-18 18:42:16 UTC     12   \n",
       "..                   ...    ...       ...                      ...    ...   \n",
       "279           dharmon555      3   Cooking  2010-12-15 15:32:36 UTC     12   \n",
       "284              RevLoki      1   Cooking  2010-12-15 14:53:51 UTC     12   \n",
       "302              rhiz0me      1   Cooking  2010-12-15 16:46:41 UTC     12   \n",
       "343            dtwhitecp      1   Cooking  2010-12-15 23:35:33 UTC     12   \n",
       "475  undrway_shft_colors      2   Cooking  2010-12-15 15:29:13 UTC     12   \n",
       "\n",
       "     year  \n",
       "22   2010  \n",
       "24   2010  \n",
       "25   2010  \n",
       "27   2010  \n",
       "28   2010  \n",
       "..    ...  \n",
       "279  2010  \n",
       "284  2010  \n",
       "302  2010  \n",
       "343  2010  \n",
       "475  2010  \n",
       "\n",
       "[107 rows x 8 columns]"
      ]
     },
     "execution_count": 8,
     "metadata": {},
     "output_type": "execute_result"
    }
   ],
   "source": [
    "data_2008[data_2008_monthly==36]"
   ]
  },
  {
   "cell_type": "markdown",
   "metadata": {},
   "source": [
    "**Observation:** The distribution of comments is rather uneven. As it turns out, month 36 featured a thread about MSG, which became very popular."
   ]
  },
  {
   "cell_type": "markdown",
   "metadata": {},
   "source": [
    "## 2019"
   ]
  },
  {
   "cell_type": "code",
   "execution_count": 11,
   "metadata": {},
   "outputs": [
    {
     "data": {
      "text/html": [
       "<div>\n",
       "<style scoped>\n",
       "    .dataframe tbody tr th:only-of-type {\n",
       "        vertical-align: middle;\n",
       "    }\n",
       "\n",
       "    .dataframe tbody tr th {\n",
       "        vertical-align: top;\n",
       "    }\n",
       "\n",
       "    .dataframe thead th {\n",
       "        text-align: right;\n",
       "    }\n",
       "</style>\n",
       "<table border=\"1\" class=\"dataframe\">\n",
       "  <thead>\n",
       "    <tr style=\"text-align: right;\">\n",
       "      <th></th>\n",
       "      <th>body</th>\n",
       "      <th>match</th>\n",
       "      <th>author</th>\n",
       "      <th>score</th>\n",
       "      <th>subreddit</th>\n",
       "      <th>time</th>\n",
       "      <th>month</th>\n",
       "    </tr>\n",
       "  </thead>\n",
       "  <tbody>\n",
       "    <tr>\n",
       "      <th>0</th>\n",
       "      <td>Beer, coffee, yeast extract, dark chocolate, w...</td>\n",
       "      <td>MSG</td>\n",
       "      <td>bearded_vaginal_fart</td>\n",
       "      <td>7</td>\n",
       "      <td>Cooking</td>\n",
       "      <td>2019-01-13 00:08:45 UTC</td>\n",
       "      <td>1</td>\n",
       "    </tr>\n",
       "    <tr>\n",
       "      <th>1</th>\n",
       "      <td>Outback Steak Seasoning (which I am guessing i...</td>\n",
       "      <td>MSG</td>\n",
       "      <td>the_talking_dead</td>\n",
       "      <td>8</td>\n",
       "      <td>Cooking</td>\n",
       "      <td>2019-01-13 04:02:13 UTC</td>\n",
       "      <td>1</td>\n",
       "    </tr>\n",
       "    <tr>\n",
       "      <th>2</th>\n",
       "      <td>Fascinating. Haven't seen that before, but all...</td>\n",
       "      <td>MSG</td>\n",
       "      <td>Spock_Drop-n-Roll</td>\n",
       "      <td>1</td>\n",
       "      <td>Cooking</td>\n",
       "      <td>2019-01-09 17:16:26 UTC</td>\n",
       "      <td>1</td>\n",
       "    </tr>\n",
       "    <tr>\n",
       "      <th>3</th>\n",
       "      <td>If you've really bought into the hype you migh...</td>\n",
       "      <td>MSG</td>\n",
       "      <td>AnotherDrZoidberg</td>\n",
       "      <td>4</td>\n",
       "      <td>Cooking</td>\n",
       "      <td>2019-01-09 17:55:37 UTC</td>\n",
       "      <td>1</td>\n",
       "    </tr>\n",
       "    <tr>\n",
       "      <th>4</th>\n",
       "      <td>The pure form is always labelled msg.  I buy o...</td>\n",
       "      <td>msg</td>\n",
       "      <td>COmarmot</td>\n",
       "      <td>1</td>\n",
       "      <td>Cooking</td>\n",
       "      <td>2019-01-01 04:24:21 UTC</td>\n",
       "      <td>1</td>\n",
       "    </tr>\n",
       "    <tr>\n",
       "      <th>...</th>\n",
       "      <td>...</td>\n",
       "      <td>...</td>\n",
       "      <td>...</td>\n",
       "      <td>...</td>\n",
       "      <td>...</td>\n",
       "      <td>...</td>\n",
       "      <td>...</td>\n",
       "    </tr>\n",
       "    <tr>\n",
       "      <th>672</th>\n",
       "      <td>You're going to want to stand out.  Yours need...</td>\n",
       "      <td>MSG</td>\n",
       "      <td>HarryWaters</td>\n",
       "      <td>2</td>\n",
       "      <td>Cooking</td>\n",
       "      <td>2019-01-16 18:18:22 UTC</td>\n",
       "      <td>1</td>\n",
       "    </tr>\n",
       "    <tr>\n",
       "      <th>673</th>\n",
       "      <td>It's good in a lot of things that involve wet ...</td>\n",
       "      <td>MSG</td>\n",
       "      <td>Kibology</td>\n",
       "      <td>5</td>\n",
       "      <td>Cooking</td>\n",
       "      <td>2019-03-01 21:27:46 UTC</td>\n",
       "      <td>3</td>\n",
       "    </tr>\n",
       "    <tr>\n",
       "      <th>674</th>\n",
       "      <td>The three top substances for producing the uma...</td>\n",
       "      <td>monosodium glutamate</td>\n",
       "      <td>VegetableMovie</td>\n",
       "      <td>9</td>\n",
       "      <td>Cooking</td>\n",
       "      <td>2019-03-10 00:31:14 UTC</td>\n",
       "      <td>3</td>\n",
       "    </tr>\n",
       "    <tr>\n",
       "      <th>675</th>\n",
       "      <td>It is pretty well known that anchovies == Ital...</td>\n",
       "      <td>MSG</td>\n",
       "      <td>Lululemonparty_</td>\n",
       "      <td>1</td>\n",
       "      <td>Cooking</td>\n",
       "      <td>2019-03-27 12:05:55 UTC</td>\n",
       "      <td>3</td>\n",
       "    </tr>\n",
       "    <tr>\n",
       "      <th>676</th>\n",
       "      <td>I have no problem with MSG - I use it a lot in...</td>\n",
       "      <td>MSG</td>\n",
       "      <td>LeGourmetTV</td>\n",
       "      <td>11</td>\n",
       "      <td>Cooking</td>\n",
       "      <td>2019-03-01 13:24:14 UTC</td>\n",
       "      <td>3</td>\n",
       "    </tr>\n",
       "  </tbody>\n",
       "</table>\n",
       "<p>677 rows × 7 columns</p>\n",
       "</div>"
      ],
      "text/plain": [
       "                                                  body                 match  \\\n",
       "0    Beer, coffee, yeast extract, dark chocolate, w...                   MSG   \n",
       "1    Outback Steak Seasoning (which I am guessing i...                   MSG   \n",
       "2    Fascinating. Haven't seen that before, but all...                   MSG   \n",
       "3    If you've really bought into the hype you migh...                   MSG   \n",
       "4    The pure form is always labelled msg.  I buy o...                   msg   \n",
       "..                                                 ...                   ...   \n",
       "672  You're going to want to stand out.  Yours need...                   MSG   \n",
       "673  It's good in a lot of things that involve wet ...                   MSG   \n",
       "674  The three top substances for producing the uma...  monosodium glutamate   \n",
       "675  It is pretty well known that anchovies == Ital...                   MSG   \n",
       "676  I have no problem with MSG - I use it a lot in...                   MSG   \n",
       "\n",
       "                   author  score subreddit                     time  month  \n",
       "0    bearded_vaginal_fart      7   Cooking  2019-01-13 00:08:45 UTC      1  \n",
       "1        the_talking_dead      8   Cooking  2019-01-13 04:02:13 UTC      1  \n",
       "2       Spock_Drop-n-Roll      1   Cooking  2019-01-09 17:16:26 UTC      1  \n",
       "3       AnotherDrZoidberg      4   Cooking  2019-01-09 17:55:37 UTC      1  \n",
       "4                COmarmot      1   Cooking  2019-01-01 04:24:21 UTC      1  \n",
       "..                    ...    ...       ...                      ...    ...  \n",
       "672           HarryWaters      2   Cooking  2019-01-16 18:18:22 UTC      1  \n",
       "673              Kibology      5   Cooking  2019-03-01 21:27:46 UTC      3  \n",
       "674        VegetableMovie      9   Cooking  2019-03-10 00:31:14 UTC      3  \n",
       "675       Lululemonparty_      1   Cooking  2019-03-27 12:05:55 UTC      3  \n",
       "676           LeGourmetTV     11   Cooking  2019-03-01 13:24:14 UTC      3  \n",
       "\n",
       "[677 rows x 7 columns]"
      ]
     },
     "execution_count": 11,
     "metadata": {},
     "output_type": "execute_result"
    }
   ],
   "source": [
    "data_2019 = pd.read_csv('Preprocessed_Data/2019.csv')\n",
    "data_2019"
   ]
  },
  {
   "cell_type": "markdown",
   "metadata": {},
   "source": [
    "Inspecting the names used for MSG:"
   ]
  },
  {
   "cell_type": "code",
   "execution_count": 22,
   "metadata": {},
   "outputs": [
    {
     "data": {
      "text/plain": [
       "Text(0.5, 1.0, 'Frequency of MSG terms in 2019.')"
      ]
     },
     "execution_count": 22,
     "metadata": {},
     "output_type": "execute_result"
    },
    {
     "data": {
      "image/png": "[encoded data removed]",
      "text/plain": [
       "<Figure size 432x288 with 1 Axes>"
      ]
     },
     "metadata": {
      "needs_background": "light"
     },
     "output_type": "display_data"
    }
   ],
   "source": [
    "name_freq = data_2019['match'].value_counts()\n",
    "name_freq\n",
    "plt.bar(name_freq.index,name_freq)\n",
    "plt.xticks(rotation=45, ha=\"right\")\n",
    "plt.title('Frequency of MSG terms in 2019.')"
   ]
  },
  {
   "cell_type": "markdown",
   "metadata": {},
   "source": [
    "Inspecting the most frequent authors:"
   ]
  },
  {
   "cell_type": "code",
   "execution_count": 23,
   "metadata": {},
   "outputs": [
    {
     "data": {
      "text/plain": [
       "dopnyc              13\n",
       "Kibology            11\n",
       "shazeaa              9\n",
       "PurpleWomat          7\n",
       "mthmchris            7\n",
       "                    ..\n",
       "ohshitlastbite       1\n",
       "herroitshayree       1\n",
       "DoctorBre            1\n",
       "ChickenNoodle519     1\n",
       "OVBrewer             1\n",
       "Name: author, Length: 481, dtype: int64"
      ]
     },
     "execution_count": 23,
     "metadata": {},
     "output_type": "execute_result"
    }
   ],
   "source": [
    "name_freq = data_2019['author'].value_counts()\n",
    "name_freq"
   ]
  },
  {
   "cell_type": "markdown",
   "metadata": {},
   "source": [
    "Inspecting the comment score distribution:"
   ]
  },
  {
   "cell_type": "code",
   "execution_count": 25,
   "metadata": {},
   "outputs": [
    {
     "data": {
      "text/plain": [
       "Text(0.5, 1.0, 'Histogram of scores of comments mentioning MSG in 2019.')"
      ]
     },
     "execution_count": 25,
     "metadata": {},
     "output_type": "execute_result"
    },
    {
     "data": {
      "image/png": "[encoded data removed]",
      "text/plain": [
       "<Figure size 432x288 with 1 Axes>"
      ]
     },
     "metadata": {
      "needs_background": "light"
     },
     "output_type": "display_data"
    }
   ],
   "source": [
    "plt.hist(data_2019['score'],bins=40)\n",
    "plt.title('Histogram of scores of comments mentioning MSG in 2019.')"
   ]
  },
  {
   "cell_type": "markdown",
   "metadata": {},
   "source": [
    "Inspecting the subreddit frequencies:"
   ]
  },
  {
   "cell_type": "code",
   "execution_count": 27,
   "metadata": {},
   "outputs": [
    {
     "data": {
      "text/plain": [
       "Text(0.5, 1.0, 'Frequency of comments mentioning MSG per subreddits in 2019.')"
      ]
     },
     "execution_count": 27,
     "metadata": {},
     "output_type": "execute_result"
    },
    {
     "data": {
      "image/png": "[encoded data removed]",
      "text/plain": [
       "<Figure size 432x288 with 1 Axes>"
      ]
     },
     "metadata": {
      "needs_background": "light"
     },
     "output_type": "display_data"
    }
   ],
   "source": [
    "subreddit_freq = data_2019['subreddit'].value_counts()\n",
    "subreddit_freq\n",
    "plt.bar(subreddit_freq.index,subreddit_freq)\n",
    "plt.xticks(rotation=45, ha=\"right\")\n",
    "plt.title('Frequency of comments mentioning MSG per subreddits in 2019.')"
   ]
  },
  {
   "cell_type": "markdown",
   "metadata": {},
   "source": [
    "Inspecting the frequency per month and day:"
   ]
  },
  {
   "cell_type": "code",
   "execution_count": 16,
   "metadata": {},
   "outputs": [
    {
     "data": {
      "text/plain": [
       "Text(0.5, 1.0, 'Frequency of comments mentioning MSG per month in 2019.')"
      ]
     },
     "execution_count": 16,
     "metadata": {},
     "output_type": "execute_result"
    },
    {
     "data": {
      "image/png": "[encoded data removed]",
      "text/plain": [
       "<Figure size 432x288 with 1 Axes>"
      ]
     },
     "metadata": {
      "needs_background": "light"
     },
     "output_type": "display_data"
    }
   ],
   "source": [
    "month_freq = data_2019['month'].value_counts()\n",
    "month_freq\n",
    "plt.bar(month_freq.index,month_freq)\n",
    "plt.xticks(month_freq.index)\n",
    "plt.title('Frequency of comments mentioning MSG per month in 2019.')"
   ]
  },
  {
   "cell_type": "code",
   "execution_count": 17,
   "metadata": {},
   "outputs": [
    {
     "data": {
      "text/plain": [
       "Text(0.5, 1.0, 'Frequency of comments mentioning MSG per day in the first month of 2019.')"
      ]
     },
     "execution_count": 17,
     "metadata": {},
     "output_type": "execute_result"
    },
    {
     "data": {
      "image/png": "[encoded data removed]",
      "text/plain": [
       "<Figure size 432x288 with 1 Axes>"
      ]
     },
     "metadata": {
      "needs_background": "light"
     },
     "output_type": "display_data"
    }
   ],
   "source": [
    "data_2019_1 = data_2019[data_2019['month'] == 1]\n",
    "day_freq = pd.to_datetime(data_2019_1['time']).dt.day.value_counts()\n",
    "day_freq\n",
    "plt.bar(day_freq.index,day_freq)\n",
    "plt.xticks(day_freq.index)\n",
    "plt.xticks(rotation=45, ha=\"right\")\n",
    "plt.title('Frequency of comments mentioning MSG per day in the first month of 2019.')"
   ]
  },
  {
   "cell_type": "markdown",
   "metadata": {},
   "source": [
    "# Aggregating data for authors"
   ]
  },
  {
   "cell_type": "code",
   "execution_count": 34,
   "metadata": {},
   "outputs": [],
   "source": [
    "data_2008['former'] = True\n",
    "data_2008['recent'] = False\n",
    "data_2019['former'] = False\n",
    "data_2019['recent'] = True\n",
    "data_combined = pd.concat([data_2008,data_2019]).reset_index(drop=True)"
   ]
  },
  {
   "cell_type": "code",
   "execution_count": 35,
   "metadata": {},
   "outputs": [],
   "source": [
    "authors_grouped = data_combined.groupby('author')"
   ]
  },
  {
   "cell_type": "code",
   "execution_count": 36,
   "metadata": {},
   "outputs": [
    {
     "name": "stderr",
     "output_type": "stream",
     "text": [
      "<ipython-input-36-0a0662217b56>:9: SettingWithCopyWarning: \n",
      "A value is trying to be set on a copy of a slice from a DataFrame\n",
      "\n",
      "See the caveats in the documentation: https://pandas.pydata.org/pandas-docs/stable/user_guide/indexing.html#returning-a-view-versus-a-copy\n",
      "  authors[\"nr_r\"+sub.lower()][user]+=1\n"
     ]
    }
   ],
   "source": [
    "authors = pd.DataFrame(authors_grouped['body'].agg(lambda col: '\\n\\n ____NEXT COMMENT____ \\n'.join(col)))\n",
    "authors = pd.concat([authors,authors_grouped.agg(nr_comments=('body','count'),total_score=('score','sum'),\n",
    "                 former=('former','any'),recent=('recent','any'))],axis=1)\n",
    "authors['nr_rcooking'] = 0\n",
    "authors['nr_rrecipes'] = 0\n",
    "authors['nr_rnutrition'] = 0\n",
    "for i in range(max(authors_grouped.size())):\n",
    "    for user,sub in authors_grouped['subreddit'].nth(i).to_dict().items():\n",
    "        authors[\"nr_r\"+sub.lower()][user]+=1\n",
    "authors.reset_index(inplace=True)"
   ]
  },
  {
   "cell_type": "code",
   "execution_count": 37,
   "metadata": {},
   "outputs": [
    {
     "data": {
      "text/html": [
       "<div>\n",
       "<style scoped>\n",
       "    .dataframe tbody tr th:only-of-type {\n",
       "        vertical-align: middle;\n",
       "    }\n",
       "\n",
       "    .dataframe tbody tr th {\n",
       "        vertical-align: top;\n",
       "    }\n",
       "\n",
       "    .dataframe thead th {\n",
       "        text-align: right;\n",
       "    }\n",
       "</style>\n",
       "<table border=\"1\" class=\"dataframe\">\n",
       "  <thead>\n",
       "    <tr style=\"text-align: right;\">\n",
       "      <th></th>\n",
       "      <th>author</th>\n",
       "      <th>body</th>\n",
       "      <th>nr_comments</th>\n",
       "      <th>total_score</th>\n",
       "      <th>former</th>\n",
       "      <th>recent</th>\n",
       "      <th>nr_rcooking</th>\n",
       "      <th>nr_rrecipes</th>\n",
       "      <th>nr_rnutrition</th>\n",
       "    </tr>\n",
       "  </thead>\n",
       "  <tbody>\n",
       "    <tr>\n",
       "      <th>0</th>\n",
       "      <td>1954StarDust</td>\n",
       "      <td>I was reading that the amount to add is critic...</td>\n",
       "      <td>1</td>\n",
       "      <td>5</td>\n",
       "      <td>False</td>\n",
       "      <td>True</td>\n",
       "      <td>1</td>\n",
       "      <td>0</td>\n",
       "      <td>0</td>\n",
       "    </tr>\n",
       "    <tr>\n",
       "      <th>1</th>\n",
       "      <td>1n1billionAZNsay</td>\n",
       "      <td>According to [this website](http://www.hilary....</td>\n",
       "      <td>2</td>\n",
       "      <td>12</td>\n",
       "      <td>True</td>\n",
       "      <td>False</td>\n",
       "      <td>2</td>\n",
       "      <td>0</td>\n",
       "      <td>0</td>\n",
       "    </tr>\n",
       "    <tr>\n",
       "      <th>2</th>\n",
       "      <td>1point618</td>\n",
       "      <td>OK, a few of my favorites:\\n\\nWhisky-carmelize...</td>\n",
       "      <td>1</td>\n",
       "      <td>6</td>\n",
       "      <td>True</td>\n",
       "      <td>False</td>\n",
       "      <td>1</td>\n",
       "      <td>0</td>\n",
       "      <td>0</td>\n",
       "    </tr>\n",
       "    <tr>\n",
       "      <th>3</th>\n",
       "      <td>25John</td>\n",
       "      <td>Nutrition is prone to mass hysteria, at least ...</td>\n",
       "      <td>2</td>\n",
       "      <td>152</td>\n",
       "      <td>False</td>\n",
       "      <td>True</td>\n",
       "      <td>2</td>\n",
       "      <td>0</td>\n",
       "      <td>0</td>\n",
       "    </tr>\n",
       "    <tr>\n",
       "      <th>4</th>\n",
       "      <td>2Cuil4School</td>\n",
       "      <td>Well, in all fairness, I don't think that McDs...</td>\n",
       "      <td>2</td>\n",
       "      <td>10</td>\n",
       "      <td>True</td>\n",
       "      <td>False</td>\n",
       "      <td>2</td>\n",
       "      <td>0</td>\n",
       "      <td>0</td>\n",
       "    </tr>\n",
       "    <tr>\n",
       "      <th>...</th>\n",
       "      <td>...</td>\n",
       "      <td>...</td>\n",
       "      <td>...</td>\n",
       "      <td>...</td>\n",
       "      <td>...</td>\n",
       "      <td>...</td>\n",
       "      <td>...</td>\n",
       "      <td>...</td>\n",
       "      <td>...</td>\n",
       "    </tr>\n",
       "    <tr>\n",
       "      <th>955</th>\n",
       "      <td>zf_laflare</td>\n",
       "      <td>MSG!!!!! Add it in the water Or Fish sauce.</td>\n",
       "      <td>1</td>\n",
       "      <td>4</td>\n",
       "      <td>False</td>\n",
       "      <td>True</td>\n",
       "      <td>1</td>\n",
       "      <td>0</td>\n",
       "      <td>0</td>\n",
       "    </tr>\n",
       "    <tr>\n",
       "      <th>956</th>\n",
       "      <td>zhiface</td>\n",
       "      <td>I have the same problems!\\n\\nExcept I am a fem...</td>\n",
       "      <td>1</td>\n",
       "      <td>3</td>\n",
       "      <td>True</td>\n",
       "      <td>False</td>\n",
       "      <td>0</td>\n",
       "      <td>0</td>\n",
       "      <td>1</td>\n",
       "    </tr>\n",
       "    <tr>\n",
       "      <th>957</th>\n",
       "      <td>ziplocket</td>\n",
       "      <td>\"(For those who think MSG is Umami, read on, y...</td>\n",
       "      <td>1</td>\n",
       "      <td>6</td>\n",
       "      <td>True</td>\n",
       "      <td>False</td>\n",
       "      <td>1</td>\n",
       "      <td>0</td>\n",
       "      <td>0</td>\n",
       "    </tr>\n",
       "    <tr>\n",
       "      <th>958</th>\n",
       "      <td>zombie_989</td>\n",
       "      <td>Can't really think of anything I'd turn down.....</td>\n",
       "      <td>1</td>\n",
       "      <td>1</td>\n",
       "      <td>False</td>\n",
       "      <td>True</td>\n",
       "      <td>1</td>\n",
       "      <td>0</td>\n",
       "      <td>0</td>\n",
       "    </tr>\n",
       "    <tr>\n",
       "      <th>959</th>\n",
       "      <td>zombiemullet</td>\n",
       "      <td>I am contacting some people who are nutritioni...</td>\n",
       "      <td>1</td>\n",
       "      <td>1</td>\n",
       "      <td>True</td>\n",
       "      <td>False</td>\n",
       "      <td>0</td>\n",
       "      <td>0</td>\n",
       "      <td>1</td>\n",
       "    </tr>\n",
       "  </tbody>\n",
       "</table>\n",
       "<p>960 rows × 9 columns</p>\n",
       "</div>"
      ],
      "text/plain": [
       "               author                                               body  \\\n",
       "0        1954StarDust  I was reading that the amount to add is critic...   \n",
       "1    1n1billionAZNsay  According to [this website](http://www.hilary....   \n",
       "2           1point618  OK, a few of my favorites:\\n\\nWhisky-carmelize...   \n",
       "3              25John  Nutrition is prone to mass hysteria, at least ...   \n",
       "4        2Cuil4School  Well, in all fairness, I don't think that McDs...   \n",
       "..                ...                                                ...   \n",
       "955        zf_laflare       MSG!!!!! Add it in the water Or Fish sauce.    \n",
       "956           zhiface  I have the same problems!\\n\\nExcept I am a fem...   \n",
       "957         ziplocket  \"(For those who think MSG is Umami, read on, y...   \n",
       "958        zombie_989  Can't really think of anything I'd turn down.....   \n",
       "959      zombiemullet  I am contacting some people who are nutritioni...   \n",
       "\n",
       "     nr_comments  total_score  former  recent  nr_rcooking  nr_rrecipes  \\\n",
       "0              1            5   False    True            1            0   \n",
       "1              2           12    True   False            2            0   \n",
       "2              1            6    True   False            1            0   \n",
       "3              2          152   False    True            2            0   \n",
       "4              2           10    True   False            2            0   \n",
       "..           ...          ...     ...     ...          ...          ...   \n",
       "955            1            4   False    True            1            0   \n",
       "956            1            3    True   False            0            0   \n",
       "957            1            6    True   False            1            0   \n",
       "958            1            1   False    True            1            0   \n",
       "959            1            1    True   False            0            0   \n",
       "\n",
       "     nr_rnutrition  \n",
       "0                0  \n",
       "1                0  \n",
       "2                0  \n",
       "3                0  \n",
       "4                0  \n",
       "..             ...  \n",
       "955              0  \n",
       "956              1  \n",
       "957              0  \n",
       "958              0  \n",
       "959              1  \n",
       "\n",
       "[960 rows x 9 columns]"
      ]
     },
     "execution_count": 37,
     "metadata": {},
     "output_type": "execute_result"
    }
   ],
   "source": [
    "authors"
   ]
  },
  {
   "cell_type": "code",
   "execution_count": 38,
   "metadata": {},
   "outputs": [
    {
     "data": {
      "text/html": [
       "<div>\n",
       "<style scoped>\n",
       "    .dataframe tbody tr th:only-of-type {\n",
       "        vertical-align: middle;\n",
       "    }\n",
       "\n",
       "    .dataframe tbody tr th {\n",
       "        vertical-align: top;\n",
       "    }\n",
       "\n",
       "    .dataframe thead th {\n",
       "        text-align: right;\n",
       "    }\n",
       "</style>\n",
       "<table border=\"1\" class=\"dataframe\">\n",
       "  <thead>\n",
       "    <tr style=\"text-align: right;\">\n",
       "      <th></th>\n",
       "      <th>author</th>\n",
       "      <th>body</th>\n",
       "      <th>nr_comments</th>\n",
       "      <th>total_score</th>\n",
       "      <th>former</th>\n",
       "      <th>recent</th>\n",
       "      <th>nr_rcooking</th>\n",
       "      <th>nr_rrecipes</th>\n",
       "      <th>nr_rnutrition</th>\n",
       "    </tr>\n",
       "  </thead>\n",
       "  <tbody>\n",
       "    <tr>\n",
       "      <th>138</th>\n",
       "      <td>GrumpySteen</td>\n",
       "      <td>MSG and sugar.  Chick-Fil-A has quite a bit of...</td>\n",
       "      <td>7</td>\n",
       "      <td>52</td>\n",
       "      <td>True</td>\n",
       "      <td>True</td>\n",
       "      <td>2</td>\n",
       "      <td>5</td>\n",
       "      <td>0</td>\n",
       "    </tr>\n",
       "    <tr>\n",
       "      <th>286</th>\n",
       "      <td>Riddul</td>\n",
       "      <td>I've kept MSG on my table (or I would, if I ha...</td>\n",
       "      <td>3</td>\n",
       "      <td>8</td>\n",
       "      <td>True</td>\n",
       "      <td>True</td>\n",
       "      <td>3</td>\n",
       "      <td>0</td>\n",
       "      <td>0</td>\n",
       "    </tr>\n",
       "    <tr>\n",
       "      <th>390</th>\n",
       "      <td>ameoba</td>\n",
       "      <td>MSG\\n\\n ____NEXT COMMENT____ \\nI worked in a C...</td>\n",
       "      <td>6</td>\n",
       "      <td>64</td>\n",
       "      <td>True</td>\n",
       "      <td>True</td>\n",
       "      <td>6</td>\n",
       "      <td>0</td>\n",
       "      <td>0</td>\n",
       "    </tr>\n",
       "    <tr>\n",
       "      <th>469</th>\n",
       "      <td>chromiselda</td>\n",
       "      <td>I tried a quick google search in hope that I'd...</td>\n",
       "      <td>2</td>\n",
       "      <td>6</td>\n",
       "      <td>True</td>\n",
       "      <td>True</td>\n",
       "      <td>2</td>\n",
       "      <td>0</td>\n",
       "      <td>0</td>\n",
       "    </tr>\n",
       "    <tr>\n",
       "      <th>524</th>\n",
       "      <td>eastshores</td>\n",
       "      <td>Your post inspired me to go to my asian market...</td>\n",
       "      <td>2</td>\n",
       "      <td>97</td>\n",
       "      <td>True</td>\n",
       "      <td>True</td>\n",
       "      <td>2</td>\n",
       "      <td>0</td>\n",
       "      <td>0</td>\n",
       "    </tr>\n",
       "    <tr>\n",
       "      <th>637</th>\n",
       "      <td>jmalbo35</td>\n",
       "      <td>There's no proof of it happening to literally ...</td>\n",
       "      <td>2</td>\n",
       "      <td>2</td>\n",
       "      <td>True</td>\n",
       "      <td>True</td>\n",
       "      <td>0</td>\n",
       "      <td>2</td>\n",
       "      <td>0</td>\n",
       "    </tr>\n",
       "    <tr>\n",
       "      <th>724</th>\n",
       "      <td>mrhoopers</td>\n",
       "      <td>See, I don't go for worcestershire because it ...</td>\n",
       "      <td>5</td>\n",
       "      <td>8</td>\n",
       "      <td>True</td>\n",
       "      <td>True</td>\n",
       "      <td>5</td>\n",
       "      <td>0</td>\n",
       "      <td>0</td>\n",
       "    </tr>\n",
       "  </tbody>\n",
       "</table>\n",
       "</div>"
      ],
      "text/plain": [
       "          author                                               body  \\\n",
       "138  GrumpySteen  MSG and sugar.  Chick-Fil-A has quite a bit of...   \n",
       "286       Riddul  I've kept MSG on my table (or I would, if I ha...   \n",
       "390       ameoba  MSG\\n\\n ____NEXT COMMENT____ \\nI worked in a C...   \n",
       "469  chromiselda  I tried a quick google search in hope that I'd...   \n",
       "524   eastshores  Your post inspired me to go to my asian market...   \n",
       "637     jmalbo35  There's no proof of it happening to literally ...   \n",
       "724    mrhoopers  See, I don't go for worcestershire because it ...   \n",
       "\n",
       "     nr_comments  total_score  former  recent  nr_rcooking  nr_rrecipes  \\\n",
       "138            7           52    True    True            2            5   \n",
       "286            3            8    True    True            3            0   \n",
       "390            6           64    True    True            6            0   \n",
       "469            2            6    True    True            2            0   \n",
       "524            2           97    True    True            2            0   \n",
       "637            2            2    True    True            0            2   \n",
       "724            5            8    True    True            5            0   \n",
       "\n",
       "     nr_rnutrition  \n",
       "138              0  \n",
       "286              0  \n",
       "390              0  \n",
       "469              0  \n",
       "524              0  \n",
       "637              0  \n",
       "724              0  "
      ]
     },
     "execution_count": 38,
     "metadata": {},
     "output_type": "execute_result"
    }
   ],
   "source": [
    "authors[authors[['former','recent']].all(axis=1)]"
   ]
  },
  {
   "cell_type": "markdown",
   "metadata": {},
   "source": [
    "**Observation:** Seven authors appear in both periods."
   ]
  },
  {
   "cell_type": "markdown",
   "metadata": {},
   "source": [
    "# Preparing annotation files"
   ]
  },
  {
   "cell_type": "code",
   "execution_count": 39,
   "metadata": {},
   "outputs": [],
   "source": [
    "annotation_data = authors.sample(frac=1,random_state=2020)\n",
    "annotation_data['stance'] = ''"
   ]
  },
  {
   "cell_type": "code",
   "execution_count": 40,
   "metadata": {},
   "outputs": [
    {
     "data": {
      "text/html": [
       "<div>\n",
       "<style scoped>\n",
       "    .dataframe tbody tr th:only-of-type {\n",
       "        vertical-align: middle;\n",
       "    }\n",
       "\n",
       "    .dataframe tbody tr th {\n",
       "        vertical-align: top;\n",
       "    }\n",
       "\n",
       "    .dataframe thead th {\n",
       "        text-align: right;\n",
       "    }\n",
       "</style>\n",
       "<table border=\"1\" class=\"dataframe\">\n",
       "  <thead>\n",
       "    <tr style=\"text-align: right;\">\n",
       "      <th></th>\n",
       "      <th>author</th>\n",
       "      <th>body</th>\n",
       "      <th>nr_comments</th>\n",
       "      <th>total_score</th>\n",
       "      <th>former</th>\n",
       "      <th>recent</th>\n",
       "      <th>nr_rcooking</th>\n",
       "      <th>nr_rrecipes</th>\n",
       "      <th>nr_rnutrition</th>\n",
       "      <th>stance</th>\n",
       "    </tr>\n",
       "  </thead>\n",
       "  <tbody>\n",
       "    <tr>\n",
       "      <th>76</th>\n",
       "      <td>CogitoNM</td>\n",
       "      <td>High levels of phytic acid in soy reduce assim...</td>\n",
       "      <td>1</td>\n",
       "      <td>-1</td>\n",
       "      <td>True</td>\n",
       "      <td>False</td>\n",
       "      <td>1</td>\n",
       "      <td>0</td>\n",
       "      <td>0</td>\n",
       "      <td></td>\n",
       "    </tr>\n",
       "    <tr>\n",
       "      <th>539</th>\n",
       "      <td>eutamias21</td>\n",
       "      <td>Ah, the ol' stand by! I just checked and we've...</td>\n",
       "      <td>1</td>\n",
       "      <td>2</td>\n",
       "      <td>False</td>\n",
       "      <td>True</td>\n",
       "      <td>1</td>\n",
       "      <td>0</td>\n",
       "      <td>0</td>\n",
       "      <td></td>\n",
       "    </tr>\n",
       "    <tr>\n",
       "      <th>84</th>\n",
       "      <td>DaGreatness</td>\n",
       "      <td>When I gotta impress someone with my cooking. ...</td>\n",
       "      <td>1</td>\n",
       "      <td>7</td>\n",
       "      <td>False</td>\n",
       "      <td>True</td>\n",
       "      <td>1</td>\n",
       "      <td>0</td>\n",
       "      <td>0</td>\n",
       "      <td></td>\n",
       "    </tr>\n",
       "    <tr>\n",
       "      <th>322</th>\n",
       "      <td>Sunshine_of_your_Lov</td>\n",
       "      <td>find different ways to bring umami. Dried fish...</td>\n",
       "      <td>1</td>\n",
       "      <td>2</td>\n",
       "      <td>False</td>\n",
       "      <td>True</td>\n",
       "      <td>1</td>\n",
       "      <td>0</td>\n",
       "      <td>0</td>\n",
       "      <td></td>\n",
       "    </tr>\n",
       "    <tr>\n",
       "      <th>478</th>\n",
       "      <td>cookerlv</td>\n",
       "      <td>MSG should be more commonplace, it has absolut...</td>\n",
       "      <td>1</td>\n",
       "      <td>10</td>\n",
       "      <td>False</td>\n",
       "      <td>True</td>\n",
       "      <td>1</td>\n",
       "      <td>0</td>\n",
       "      <td>0</td>\n",
       "      <td></td>\n",
       "    </tr>\n",
       "    <tr>\n",
       "      <th>...</th>\n",
       "      <td>...</td>\n",
       "      <td>...</td>\n",
       "      <td>...</td>\n",
       "      <td>...</td>\n",
       "      <td>...</td>\n",
       "      <td>...</td>\n",
       "      <td>...</td>\n",
       "      <td>...</td>\n",
       "      <td>...</td>\n",
       "      <td>...</td>\n",
       "    </tr>\n",
       "    <tr>\n",
       "      <th>707</th>\n",
       "      <td>metaphorm</td>\n",
       "      <td>gonna sound like sacrilege, but you might want...</td>\n",
       "      <td>1</td>\n",
       "      <td>3</td>\n",
       "      <td>True</td>\n",
       "      <td>False</td>\n",
       "      <td>1</td>\n",
       "      <td>0</td>\n",
       "      <td>0</td>\n",
       "      <td></td>\n",
       "    </tr>\n",
       "    <tr>\n",
       "      <th>630</th>\n",
       "      <td>jdw1066</td>\n",
       "      <td>\"Ajinomoto\" (MSG). My grandma is Japanese-Amer...</td>\n",
       "      <td>1</td>\n",
       "      <td>1</td>\n",
       "      <td>False</td>\n",
       "      <td>True</td>\n",
       "      <td>1</td>\n",
       "      <td>0</td>\n",
       "      <td>0</td>\n",
       "      <td></td>\n",
       "    </tr>\n",
       "    <tr>\n",
       "      <th>323</th>\n",
       "      <td>SuperStealthOTL</td>\n",
       "      <td>Almost every Caesar salad I’ve eaten in Canada...</td>\n",
       "      <td>1</td>\n",
       "      <td>1</td>\n",
       "      <td>False</td>\n",
       "      <td>True</td>\n",
       "      <td>1</td>\n",
       "      <td>0</td>\n",
       "      <td>0</td>\n",
       "      <td></td>\n",
       "    </tr>\n",
       "    <tr>\n",
       "      <th>392</th>\n",
       "      <td>andkeener</td>\n",
       "      <td>Ive never used sazon before, is there MSG in i...</td>\n",
       "      <td>2</td>\n",
       "      <td>2</td>\n",
       "      <td>True</td>\n",
       "      <td>False</td>\n",
       "      <td>2</td>\n",
       "      <td>0</td>\n",
       "      <td>0</td>\n",
       "      <td></td>\n",
       "    </tr>\n",
       "    <tr>\n",
       "      <th>864</th>\n",
       "      <td>stiffpasta</td>\n",
       "      <td>These look great! One question though: why add...</td>\n",
       "      <td>1</td>\n",
       "      <td>1</td>\n",
       "      <td>True</td>\n",
       "      <td>False</td>\n",
       "      <td>1</td>\n",
       "      <td>0</td>\n",
       "      <td>0</td>\n",
       "      <td></td>\n",
       "    </tr>\n",
       "  </tbody>\n",
       "</table>\n",
       "<p>960 rows × 10 columns</p>\n",
       "</div>"
      ],
      "text/plain": [
       "                   author                                               body  \\\n",
       "76               CogitoNM  High levels of phytic acid in soy reduce assim...   \n",
       "539            eutamias21  Ah, the ol' stand by! I just checked and we've...   \n",
       "84            DaGreatness  When I gotta impress someone with my cooking. ...   \n",
       "322  Sunshine_of_your_Lov  find different ways to bring umami. Dried fish...   \n",
       "478              cookerlv  MSG should be more commonplace, it has absolut...   \n",
       "..                    ...                                                ...   \n",
       "707             metaphorm  gonna sound like sacrilege, but you might want...   \n",
       "630               jdw1066  \"Ajinomoto\" (MSG). My grandma is Japanese-Amer...   \n",
       "323       SuperStealthOTL  Almost every Caesar salad I’ve eaten in Canada...   \n",
       "392             andkeener  Ive never used sazon before, is there MSG in i...   \n",
       "864            stiffpasta  These look great! One question though: why add...   \n",
       "\n",
       "     nr_comments  total_score  former  recent  nr_rcooking  nr_rrecipes  \\\n",
       "76             1           -1    True   False            1            0   \n",
       "539            1            2   False    True            1            0   \n",
       "84             1            7   False    True            1            0   \n",
       "322            1            2   False    True            1            0   \n",
       "478            1           10   False    True            1            0   \n",
       "..           ...          ...     ...     ...          ...          ...   \n",
       "707            1            3    True   False            1            0   \n",
       "630            1            1   False    True            1            0   \n",
       "323            1            1   False    True            1            0   \n",
       "392            2            2    True   False            2            0   \n",
       "864            1            1    True   False            1            0   \n",
       "\n",
       "     nr_rnutrition stance  \n",
       "76               0         \n",
       "539              0         \n",
       "84               0         \n",
       "322              0         \n",
       "478              0         \n",
       "..             ...    ...  \n",
       "707              0         \n",
       "630              0         \n",
       "323              0         \n",
       "392              0         \n",
       "864              0         \n",
       "\n",
       "[960 rows x 10 columns]"
      ]
     },
     "execution_count": 40,
     "metadata": {},
     "output_type": "execute_result"
    }
   ],
   "source": [
    "annotation_data"
   ]
  },
  {
   "cell_type": "markdown",
   "metadata": {},
   "source": [
    "Creating annotation file"
   ]
  },
  {
   "cell_type": "code",
   "execution_count": null,
   "metadata": {},
   "outputs": [],
   "source": [
    "annotation_data.to_csv('full_data.csv')\n",
    "annotation_data[['body','stance']].to_csv('annotation_file.csv')"
   ]
  }
 ],
 "metadata": {
  "kernelspec": {
   "display_name": "Python 3",
   "language": "python",
   "name": "python3"
  },
  "language_info": {
   "codemirror_mode": {
    "name": "ipython",
    "version": 3
   },
   "file_extension": ".py",
   "mimetype": "text/x-python",
   "name": "python",
   "nbconvert_exporter": "python",
   "pygments_lexer": "ipython3",
   "version": "3.8.5"
  }
 },
 "nbformat": 4,
 "nbformat_minor": 4
}
