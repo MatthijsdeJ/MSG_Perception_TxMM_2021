{
 "cells": [
  {
   "cell_type": "code",
   "execution_count": 54,
   "metadata": {},
   "outputs": [],
   "source": [
    "import pandas as pd\n",
    "import numpy as np\n",
    "import matplotlib.pyplot as plt\n",
    "from IPython.display import display, HTML"
   ]
  },
  {
   "cell_type": "markdown",
   "metadata": {},
   "source": [
    "# Analysis"
   ]
  },
  {
   "cell_type": "markdown",
   "metadata": {},
   "source": [
    "## 2008-2012"
   ]
  },
  {
   "cell_type": "code",
   "execution_count": 2,
   "metadata": {},
   "outputs": [
    {
     "data": {
      "text/html": [
       "<div>\n",
       "<style scoped>\n",
       "    .dataframe tbody tr th:only-of-type {\n",
       "        vertical-align: middle;\n",
       "    }\n",
       "\n",
       "    .dataframe tbody tr th {\n",
       "        vertical-align: top;\n",
       "    }\n",
       "\n",
       "    .dataframe thead th {\n",
       "        text-align: right;\n",
       "    }\n",
       "</style>\n",
       "<table border=\"1\" class=\"dataframe\">\n",
       "  <thead>\n",
       "    <tr style=\"text-align: right;\">\n",
       "      <th></th>\n",
       "      <th>body</th>\n",
       "      <th>match</th>\n",
       "      <th>author</th>\n",
       "      <th>score</th>\n",
       "      <th>subreddit</th>\n",
       "      <th>time</th>\n",
       "      <th>month</th>\n",
       "      <th>year</th>\n",
       "    </tr>\n",
       "  </thead>\n",
       "  <tbody>\n",
       "    <tr>\n",
       "      <th>0</th>\n",
       "      <td>Well the noodles contain MSG. I would use the ...</td>\n",
       "      <td>MSG</td>\n",
       "      <td>Jkins20</td>\n",
       "      <td>-5</td>\n",
       "      <td>Cooking</td>\n",
       "      <td>2012-05-10 02:29:15 UTC</td>\n",
       "      <td>5</td>\n",
       "      <td>2012</td>\n",
       "    </tr>\n",
       "    <tr>\n",
       "      <th>1</th>\n",
       "      <td>I'm convinced Knorr is secretly holding Marco'...</td>\n",
       "      <td>MSG</td>\n",
       "      <td>EndlessAutumn</td>\n",
       "      <td>5</td>\n",
       "      <td>Cooking</td>\n",
       "      <td>2012-10-19 15:36:52 UTC</td>\n",
       "      <td>10</td>\n",
       "      <td>2012</td>\n",
       "    </tr>\n",
       "    <tr>\n",
       "      <th>2</th>\n",
       "      <td>MSG</td>\n",
       "      <td>MSG</td>\n",
       "      <td>ameoba</td>\n",
       "      <td>1</td>\n",
       "      <td>Cooking</td>\n",
       "      <td>2012-01-20 06:38:59 UTC</td>\n",
       "      <td>1</td>\n",
       "      <td>2012</td>\n",
       "    </tr>\n",
       "    <tr>\n",
       "      <th>3</th>\n",
       "      <td>I worked in a Chinese restaurant one summer &amp;a...</td>\n",
       "      <td>MSG</td>\n",
       "      <td>ameoba</td>\n",
       "      <td>1</td>\n",
       "      <td>Cooking</td>\n",
       "      <td>2012-06-12 02:36:10 UTC</td>\n",
       "      <td>6</td>\n",
       "      <td>2012</td>\n",
       "    </tr>\n",
       "    <tr>\n",
       "      <th>4</th>\n",
       "      <td>I'm not sensitive to MSG, but I still try to a...</td>\n",
       "      <td>MSG</td>\n",
       "      <td>meohmy13</td>\n",
       "      <td>2</td>\n",
       "      <td>Cooking</td>\n",
       "      <td>2012-02-16 21:06:44 UTC</td>\n",
       "      <td>2</td>\n",
       "      <td>2012</td>\n",
       "    </tr>\n",
       "    <tr>\n",
       "      <th>...</th>\n",
       "      <td>...</td>\n",
       "      <td>...</td>\n",
       "      <td>...</td>\n",
       "      <td>...</td>\n",
       "      <td>...</td>\n",
       "      <td>...</td>\n",
       "      <td>...</td>\n",
       "      <td>...</td>\n",
       "    </tr>\n",
       "    <tr>\n",
       "      <th>708</th>\n",
       "      <td>As do so many negative/positive things have a ...</td>\n",
       "      <td>MSG</td>\n",
       "      <td>jeffois</td>\n",
       "      <td>1</td>\n",
       "      <td>Cooking</td>\n",
       "      <td>2012-05-27 20:32:11 UTC</td>\n",
       "      <td>5</td>\n",
       "      <td>2012</td>\n",
       "    </tr>\n",
       "    <tr>\n",
       "      <th>709</th>\n",
       "      <td>Velveeta? Hell to the no.\\n\\nHormel Beanless C...</td>\n",
       "      <td>Monosodium Glutamate</td>\n",
       "      <td>tinyberlin</td>\n",
       "      <td>5</td>\n",
       "      <td>recipes</td>\n",
       "      <td>2012-09-22 10:49:18 UTC</td>\n",
       "      <td>9</td>\n",
       "      <td>2012</td>\n",
       "    </tr>\n",
       "    <tr>\n",
       "      <th>710</th>\n",
       "      <td>I agree - stick with a soup, preferably one wi...</td>\n",
       "      <td>monosodium glutamate</td>\n",
       "      <td>JansSushiBar</td>\n",
       "      <td>1</td>\n",
       "      <td>Cooking</td>\n",
       "      <td>2012-04-16 14:07:14 UTC</td>\n",
       "      <td>4</td>\n",
       "      <td>2012</td>\n",
       "    </tr>\n",
       "    <tr>\n",
       "      <th>711</th>\n",
       "      <td>This is not as pretty as stock, but it's very ...</td>\n",
       "      <td>msg</td>\n",
       "      <td>xnihil0zer0</td>\n",
       "      <td>1</td>\n",
       "      <td>Cooking</td>\n",
       "      <td>2012-09-26 06:11:45 UTC</td>\n",
       "      <td>9</td>\n",
       "      <td>2012</td>\n",
       "    </tr>\n",
       "    <tr>\n",
       "      <th>712</th>\n",
       "      <td>MSG exists naturally in tomatoes, along with o...</td>\n",
       "      <td>MSG</td>\n",
       "      <td>angryformorebacon</td>\n",
       "      <td>3</td>\n",
       "      <td>Cooking</td>\n",
       "      <td>2012-05-13 03:37:52 UTC</td>\n",
       "      <td>5</td>\n",
       "      <td>2012</td>\n",
       "    </tr>\n",
       "  </tbody>\n",
       "</table>\n",
       "<p>713 rows × 8 columns</p>\n",
       "</div>"
      ],
      "text/plain": [
       "                                                  body                 match  \\\n",
       "0    Well the noodles contain MSG. I would use the ...                   MSG   \n",
       "1    I'm convinced Knorr is secretly holding Marco'...                   MSG   \n",
       "2                                                  MSG                   MSG   \n",
       "3    I worked in a Chinese restaurant one summer &a...                   MSG   \n",
       "4    I'm not sensitive to MSG, but I still try to a...                   MSG   \n",
       "..                                                 ...                   ...   \n",
       "708  As do so many negative/positive things have a ...                   MSG   \n",
       "709  Velveeta? Hell to the no.\\n\\nHormel Beanless C...  Monosodium Glutamate   \n",
       "710  I agree - stick with a soup, preferably one wi...  monosodium glutamate   \n",
       "711  This is not as pretty as stock, but it's very ...                   msg   \n",
       "712  MSG exists naturally in tomatoes, along with o...                   MSG   \n",
       "\n",
       "                author  score subreddit                     time  month  year  \n",
       "0              Jkins20     -5   Cooking  2012-05-10 02:29:15 UTC      5  2012  \n",
       "1        EndlessAutumn      5   Cooking  2012-10-19 15:36:52 UTC     10  2012  \n",
       "2               ameoba      1   Cooking  2012-01-20 06:38:59 UTC      1  2012  \n",
       "3               ameoba      1   Cooking  2012-06-12 02:36:10 UTC      6  2012  \n",
       "4             meohmy13      2   Cooking  2012-02-16 21:06:44 UTC      2  2012  \n",
       "..                 ...    ...       ...                      ...    ...   ...  \n",
       "708            jeffois      1   Cooking  2012-05-27 20:32:11 UTC      5  2012  \n",
       "709         tinyberlin      5   recipes  2012-09-22 10:49:18 UTC      9  2012  \n",
       "710       JansSushiBar      1   Cooking  2012-04-16 14:07:14 UTC      4  2012  \n",
       "711        xnihil0zer0      1   Cooking  2012-09-26 06:11:45 UTC      9  2012  \n",
       "712  angryformorebacon      3   Cooking  2012-05-13 03:37:52 UTC      5  2012  \n",
       "\n",
       "[713 rows x 8 columns]"
      ]
     },
     "execution_count": 2,
     "metadata": {},
     "output_type": "execute_result"
    }
   ],
   "source": [
    "data_2008 = pd.read_csv('Preprocessed_Data/2008-2012.csv')\n",
    "data_2008"
   ]
  },
  {
   "cell_type": "code",
   "execution_count": 3,
   "metadata": {},
   "outputs": [
    {
     "data": {
      "text/plain": [
       "Text(0.5, 1.0, 'Frequency of MSG terms in 2018-2012.')"
      ]
     },
     "execution_count": 3,
     "metadata": {},
     "output_type": "execute_result"
    },
    {
     "data": {
      "image/png": "[encoded data removed]",
      "text/plain": [
       "<Figure size 432x288 with 1 Axes>"
      ]
     },
     "metadata": {
      "needs_background": "light"
     },
     "output_type": "display_data"
    }
   ],
   "source": [
    "#MSG names bar plot\n",
    "name_freq = data_2008['match'].value_counts()\n",
    "name_freq\n",
    "plt.bar(name_freq.index,name_freq)\n",
    "plt.xticks(rotation=45, ha=\"right\")\n",
    "plt.title('Frequency of MSG terms in 2018-2012.')"
   ]
  },
  {
   "cell_type": "code",
   "execution_count": 4,
   "metadata": {},
   "outputs": [
    {
     "data": {
      "text/plain": [
       "BattleHall           9\n",
       "Bran_Solo            8\n",
       "ReallyEvilCanine     8\n",
       "smacksaw             7\n",
       "dtwhitecp            7\n",
       "                    ..\n",
       "Hero_Of_Sandwich     1\n",
       "writesinlowercase    1\n",
       "canadasecond         1\n",
       "madRomanian          1\n",
       "LongUsername         1\n",
       "Name: author, Length: 486, dtype: int64"
      ]
     },
     "execution_count": 4,
     "metadata": {},
     "output_type": "execute_result"
    }
   ],
   "source": [
    "#Inspecting authors\n",
    "name_freq = data_2008['author'].value_counts()\n",
    "name_freq"
   ]
  },
  {
   "cell_type": "code",
   "execution_count": 5,
   "metadata": {},
   "outputs": [
    {
     "data": {
      "text/plain": [
       "Text(0.5, 1.0, 'Histogram of scores of comments mentioning MSG in 2008-2012.')"
      ]
     },
     "execution_count": 5,
     "metadata": {},
     "output_type": "execute_result"
    },
    {
     "data": {
      "image/png": "[encoded data removed]",
      "text/plain": [
       "<Figure size 432x288 with 1 Axes>"
      ]
     },
     "metadata": {
      "needs_background": "light"
     },
     "output_type": "display_data"
    }
   ],
   "source": [
    "#Plotting score histogram\n",
    "plt.hist(data_2008['score'],bins=40)\n",
    "plt.title('Histogram of scores of comments mentioning MSG in 2008-2012.')"
   ]
  },
  {
   "cell_type": "code",
   "execution_count": 6,
   "metadata": {},
   "outputs": [
    {
     "data": {
      "text/plain": [
       "Text(0.5, 1.0, 'Frequency of comments mentioning MSG per subreddits in 2008-2012.')"
      ]
     },
     "execution_count": 6,
     "metadata": {},
     "output_type": "execute_result"
    },
    {
     "data": {
      "image/png": "[encoded data removed]",
      "text/plain": [
       "<Figure size 432x288 with 1 Axes>"
      ]
     },
     "metadata": {
      "needs_background": "light"
     },
     "output_type": "display_data"
    }
   ],
   "source": [
    "#Subreddit bar plot\n",
    "subreddit_freq = data_2008['subreddit'].value_counts()\n",
    "subreddit_freq\n",
    "plt.bar(subreddit_freq.index,subreddit_freq)\n",
    "plt.xticks(rotation=45, ha=\"right\")\n",
    "plt.title('Frequency of comments mentioning MSG per subreddits in 2008-2012.')"
   ]
  },
  {
   "cell_type": "code",
   "execution_count": 7,
   "metadata": {},
   "outputs": [
    {
     "data": {
      "text/plain": [
       "Text(0.5, 1.0, 'Frequency of comments mentioning MSG per month in 2008-2012.')"
      ]
     },
     "execution_count": 7,
     "metadata": {},
     "output_type": "execute_result"
    },
    {
     "data": {
      "image/png": "[encoded data removed]",
      "text/plain": [
       "<Figure size 432x288 with 1 Axes>"
      ]
     },
     "metadata": {
      "needs_background": "light"
     },
     "output_type": "display_data"
    }
   ],
   "source": [
    "#Subreddit bar plot\n",
    "data_2008_monthly = (data_2008['year']-2008)*12 + data_2008['month']\n",
    "month_freq = data_2008_monthly.value_counts()\n",
    "month_freq\n",
    "plt.bar(month_freq.index,month_freq)\n",
    "plt.xticks(month_freq.index,rotation=90, ha=\"right\",size=7)\n",
    "plt.title('Frequency of comments mentioning MSG per month in 2008-2012.')"
   ]
  },
  {
   "cell_type": "markdown",
   "metadata": {},
   "source": [
    "## 2019"
   ]
  },
  {
   "cell_type": "code",
   "execution_count": 8,
   "metadata": {},
   "outputs": [
    {
     "data": {
      "text/html": [
       "<div>\n",
       "<style scoped>\n",
       "    .dataframe tbody tr th:only-of-type {\n",
       "        vertical-align: middle;\n",
       "    }\n",
       "\n",
       "    .dataframe tbody tr th {\n",
       "        vertical-align: top;\n",
       "    }\n",
       "\n",
       "    .dataframe thead th {\n",
       "        text-align: right;\n",
       "    }\n",
       "</style>\n",
       "<table border=\"1\" class=\"dataframe\">\n",
       "  <thead>\n",
       "    <tr style=\"text-align: right;\">\n",
       "      <th></th>\n",
       "      <th>body</th>\n",
       "      <th>match</th>\n",
       "      <th>author</th>\n",
       "      <th>score</th>\n",
       "      <th>subreddit</th>\n",
       "      <th>time</th>\n",
       "      <th>month</th>\n",
       "    </tr>\n",
       "  </thead>\n",
       "  <tbody>\n",
       "    <tr>\n",
       "      <th>0</th>\n",
       "      <td>Beer, coffee, yeast extract, dark chocolate, w...</td>\n",
       "      <td>MSG</td>\n",
       "      <td>bearded_vaginal_fart</td>\n",
       "      <td>7</td>\n",
       "      <td>Cooking</td>\n",
       "      <td>2019-01-13 00:08:45 UTC</td>\n",
       "      <td>1</td>\n",
       "    </tr>\n",
       "    <tr>\n",
       "      <th>1</th>\n",
       "      <td>Outback Steak Seasoning (which I am guessing i...</td>\n",
       "      <td>MSG</td>\n",
       "      <td>the_talking_dead</td>\n",
       "      <td>8</td>\n",
       "      <td>Cooking</td>\n",
       "      <td>2019-01-13 04:02:13 UTC</td>\n",
       "      <td>1</td>\n",
       "    </tr>\n",
       "    <tr>\n",
       "      <th>2</th>\n",
       "      <td>Fascinating. Haven't seen that before, but all...</td>\n",
       "      <td>MSG</td>\n",
       "      <td>Spock_Drop-n-Roll</td>\n",
       "      <td>1</td>\n",
       "      <td>Cooking</td>\n",
       "      <td>2019-01-09 17:16:26 UTC</td>\n",
       "      <td>1</td>\n",
       "    </tr>\n",
       "    <tr>\n",
       "      <th>3</th>\n",
       "      <td>If you've really bought into the hype you migh...</td>\n",
       "      <td>MSG</td>\n",
       "      <td>AnotherDrZoidberg</td>\n",
       "      <td>4</td>\n",
       "      <td>Cooking</td>\n",
       "      <td>2019-01-09 17:55:37 UTC</td>\n",
       "      <td>1</td>\n",
       "    </tr>\n",
       "    <tr>\n",
       "      <th>4</th>\n",
       "      <td>The pure form is always labelled msg.  I buy o...</td>\n",
       "      <td>msg</td>\n",
       "      <td>COmarmot</td>\n",
       "      <td>1</td>\n",
       "      <td>Cooking</td>\n",
       "      <td>2019-01-01 04:24:21 UTC</td>\n",
       "      <td>1</td>\n",
       "    </tr>\n",
       "    <tr>\n",
       "      <th>...</th>\n",
       "      <td>...</td>\n",
       "      <td>...</td>\n",
       "      <td>...</td>\n",
       "      <td>...</td>\n",
       "      <td>...</td>\n",
       "      <td>...</td>\n",
       "      <td>...</td>\n",
       "    </tr>\n",
       "    <tr>\n",
       "      <th>672</th>\n",
       "      <td>You're going to want to stand out.  Yours need...</td>\n",
       "      <td>MSG</td>\n",
       "      <td>HarryWaters</td>\n",
       "      <td>2</td>\n",
       "      <td>Cooking</td>\n",
       "      <td>2019-01-16 18:18:22 UTC</td>\n",
       "      <td>1</td>\n",
       "    </tr>\n",
       "    <tr>\n",
       "      <th>673</th>\n",
       "      <td>It's good in a lot of things that involve wet ...</td>\n",
       "      <td>MSG</td>\n",
       "      <td>Kibology</td>\n",
       "      <td>5</td>\n",
       "      <td>Cooking</td>\n",
       "      <td>2019-03-01 21:27:46 UTC</td>\n",
       "      <td>3</td>\n",
       "    </tr>\n",
       "    <tr>\n",
       "      <th>674</th>\n",
       "      <td>The three top substances for producing the uma...</td>\n",
       "      <td>monosodium glutamate</td>\n",
       "      <td>VegetableMovie</td>\n",
       "      <td>9</td>\n",
       "      <td>Cooking</td>\n",
       "      <td>2019-03-10 00:31:14 UTC</td>\n",
       "      <td>3</td>\n",
       "    </tr>\n",
       "    <tr>\n",
       "      <th>675</th>\n",
       "      <td>It is pretty well known that anchovies == Ital...</td>\n",
       "      <td>MSG</td>\n",
       "      <td>Lululemonparty_</td>\n",
       "      <td>1</td>\n",
       "      <td>Cooking</td>\n",
       "      <td>2019-03-27 12:05:55 UTC</td>\n",
       "      <td>3</td>\n",
       "    </tr>\n",
       "    <tr>\n",
       "      <th>676</th>\n",
       "      <td>I have no problem with MSG - I use it a lot in...</td>\n",
       "      <td>MSG</td>\n",
       "      <td>LeGourmetTV</td>\n",
       "      <td>11</td>\n",
       "      <td>Cooking</td>\n",
       "      <td>2019-03-01 13:24:14 UTC</td>\n",
       "      <td>3</td>\n",
       "    </tr>\n",
       "  </tbody>\n",
       "</table>\n",
       "<p>677 rows × 7 columns</p>\n",
       "</div>"
      ],
      "text/plain": [
       "                                                  body                 match  \\\n",
       "0    Beer, coffee, yeast extract, dark chocolate, w...                   MSG   \n",
       "1    Outback Steak Seasoning (which I am guessing i...                   MSG   \n",
       "2    Fascinating. Haven't seen that before, but all...                   MSG   \n",
       "3    If you've really bought into the hype you migh...                   MSG   \n",
       "4    The pure form is always labelled msg.  I buy o...                   msg   \n",
       "..                                                 ...                   ...   \n",
       "672  You're going to want to stand out.  Yours need...                   MSG   \n",
       "673  It's good in a lot of things that involve wet ...                   MSG   \n",
       "674  The three top substances for producing the uma...  monosodium glutamate   \n",
       "675  It is pretty well known that anchovies == Ital...                   MSG   \n",
       "676  I have no problem with MSG - I use it a lot in...                   MSG   \n",
       "\n",
       "                   author  score subreddit                     time  month  \n",
       "0    bearded_vaginal_fart      7   Cooking  2019-01-13 00:08:45 UTC      1  \n",
       "1        the_talking_dead      8   Cooking  2019-01-13 04:02:13 UTC      1  \n",
       "2       Spock_Drop-n-Roll      1   Cooking  2019-01-09 17:16:26 UTC      1  \n",
       "3       AnotherDrZoidberg      4   Cooking  2019-01-09 17:55:37 UTC      1  \n",
       "4                COmarmot      1   Cooking  2019-01-01 04:24:21 UTC      1  \n",
       "..                    ...    ...       ...                      ...    ...  \n",
       "672           HarryWaters      2   Cooking  2019-01-16 18:18:22 UTC      1  \n",
       "673              Kibology      5   Cooking  2019-03-01 21:27:46 UTC      3  \n",
       "674        VegetableMovie      9   Cooking  2019-03-10 00:31:14 UTC      3  \n",
       "675       Lululemonparty_      1   Cooking  2019-03-27 12:05:55 UTC      3  \n",
       "676           LeGourmetTV     11   Cooking  2019-03-01 13:24:14 UTC      3  \n",
       "\n",
       "[677 rows x 7 columns]"
      ]
     },
     "execution_count": 8,
     "metadata": {},
     "output_type": "execute_result"
    }
   ],
   "source": [
    "data_2019 = pd.read_csv('Preprocessed_Data/2019.csv')\n",
    "data_2019"
   ]
  },
  {
   "cell_type": "code",
   "execution_count": 9,
   "metadata": {},
   "outputs": [
    {
     "data": {
      "text/plain": [
       "Text(0.5, 1.0, 'Frequency of MSG terms in 2019.')"
      ]
     },
     "execution_count": 9,
     "metadata": {},
     "output_type": "execute_result"
    },
    {
     "data": {
      "image/png": "[encoded data removed]",
      "text/plain": [
       "<Figure size 432x288 with 1 Axes>"
      ]
     },
     "metadata": {
      "needs_background": "light"
     },
     "output_type": "display_data"
    }
   ],
   "source": [
    "#MSG names bar plot\n",
    "name_freq = data_2019['match'].value_counts()\n",
    "name_freq\n",
    "plt.bar(name_freq.index,name_freq)\n",
    "plt.xticks(rotation=45, ha=\"right\")\n",
    "plt.title('Frequency of MSG terms in 2019.')"
   ]
  },
  {
   "cell_type": "code",
   "execution_count": 10,
   "metadata": {},
   "outputs": [
    {
     "data": {
      "text/plain": [
       "dopnyc             13\n",
       "Kibology           11\n",
       "shazeaa             9\n",
       "PurpleWomat         7\n",
       "mthmchris           7\n",
       "                   ..\n",
       "boo_dro04           1\n",
       "permalink_save      1\n",
       "themadnun           1\n",
       "danielhedron        1\n",
       "GradeschoolMath     1\n",
       "Name: author, Length: 481, dtype: int64"
      ]
     },
     "execution_count": 10,
     "metadata": {},
     "output_type": "execute_result"
    }
   ],
   "source": [
    "#Inspecting authors\n",
    "name_freq = data_2019['author'].value_counts()\n",
    "name_freq"
   ]
  },
  {
   "cell_type": "code",
   "execution_count": 11,
   "metadata": {},
   "outputs": [
    {
     "data": {
      "text/plain": [
       "Text(0.5, 1.0, 'Histogram of scores of comments mentioning MSG in 2019.')"
      ]
     },
     "execution_count": 11,
     "metadata": {},
     "output_type": "execute_result"
    },
    {
     "data": {
      "image/png": "[encoded data removed]",
      "text/plain": [
       "<Figure size 432x288 with 1 Axes>"
      ]
     },
     "metadata": {
      "needs_background": "light"
     },
     "output_type": "display_data"
    }
   ],
   "source": [
    "#Plotting score histogram\n",
    "plt.hist(data_2019['score'],bins=40)\n",
    "plt.title('Histogram of scores of comments mentioning MSG in 2019.')"
   ]
  },
  {
   "cell_type": "code",
   "execution_count": 12,
   "metadata": {},
   "outputs": [
    {
     "data": {
      "text/plain": [
       "Text(0.5, 1.0, 'Frequency of comments mentioning MSG per subreddits in 2019.')"
      ]
     },
     "execution_count": 12,
     "metadata": {},
     "output_type": "execute_result"
    },
    {
     "data": {
      "image/png": "[encoded data removed]",
      "text/plain": [
       "<Figure size 432x288 with 1 Axes>"
      ]
     },
     "metadata": {
      "needs_background": "light"
     },
     "output_type": "display_data"
    }
   ],
   "source": [
    "#Subreddit bar plot\n",
    "subreddit_freq = data_2019['subreddit'].value_counts()\n",
    "subreddit_freq\n",
    "plt.bar(subreddit_freq.index,subreddit_freq)\n",
    "plt.xticks(rotation=45, ha=\"right\")\n",
    "plt.title('Frequency of comments mentioning MSG per subreddits in 2019.')"
   ]
  },
  {
   "cell_type": "code",
   "execution_count": 13,
   "metadata": {},
   "outputs": [
    {
     "data": {
      "text/plain": [
       "Text(0.5, 1.0, 'Frequency of comments mentioning MSG per month in 2019.')"
      ]
     },
     "execution_count": 13,
     "metadata": {},
     "output_type": "execute_result"
    },
    {
     "data": {
      "image/png": "[encoded data removed]",
      "text/plain": [
       "<Figure size 432x288 with 1 Axes>"
      ]
     },
     "metadata": {
      "needs_background": "light"
     },
     "output_type": "display_data"
    }
   ],
   "source": [
    "#Subreddit bar plot\n",
    "month_freq = data_2019['month'].value_counts()\n",
    "month_freq\n",
    "plt.bar(month_freq.index,month_freq)\n",
    "plt.xticks(month_freq.index)\n",
    "plt.title('Frequency of comments mentioning MSG per month in 2019.')"
   ]
  },
  {
   "cell_type": "code",
   "execution_count": 14,
   "metadata": {},
   "outputs": [
    {
     "data": {
      "text/plain": [
       "Text(0.5, 1.0, 'Frequency of comments mentioning MSG per day in the first month of 2019.')"
      ]
     },
     "execution_count": 14,
     "metadata": {},
     "output_type": "execute_result"
    },
    {
     "data": {
      "image/png": "[encoded data removed]",
      "text/plain": [
       "<Figure size 432x288 with 1 Axes>"
      ]
     },
     "metadata": {
      "needs_background": "light"
     },
     "output_type": "display_data"
    }
   ],
   "source": [
    "#Subreddit bar plot\n",
    "data_2019_1 = data_2019[data_2019['month'] == 1]\n",
    "day_freq = pd.to_datetime(data_2019_1['time']).dt.day.value_counts()\n",
    "day_freq\n",
    "plt.bar(day_freq.index,day_freq)\n",
    "plt.xticks(day_freq.index)\n",
    "plt.xticks(rotation=45, ha=\"right\")\n",
    "plt.title('Frequency of comments mentioning MSG per day in the first month of 2019.')"
   ]
  },
  {
   "cell_type": "markdown",
   "metadata": {},
   "source": [
    "# Aggregating data for authors"
   ]
  },
  {
   "cell_type": "code",
   "execution_count": 44,
   "metadata": {},
   "outputs": [],
   "source": [
    "#Adding feature for \n",
    "data_2008['former'] = True\n",
    "data_2008['recent'] = False\n",
    "data_2019['former'] = False\n",
    "data_2019['recent'] = True\n",
    "data_combined = pd.concat([data_2008,data_2019]).reset_index(drop=True)"
   ]
  },
  {
   "cell_type": "code",
   "execution_count": 45,
   "metadata": {},
   "outputs": [],
   "source": [
    "authors_grouped = data_combined.groupby('author')"
   ]
  },
  {
   "cell_type": "code",
   "execution_count": 72,
   "metadata": {},
   "outputs": [],
   "source": [
    "authors = pd.DataFrame(authors_grouped['body'].agg(lambda col: '\\n\\n NEXT COMMENT:'.join(col)))\n",
    "#authors = authors_grouped.agg(nr_comments=('body','count'),total_score=('score','sum'),\n",
    "                 #former=('former','any'),recent=('recent','any'))"
   ]
  },
  {
   "cell_type": "code",
   "execution_count": 73,
   "metadata": {},
   "outputs": [
    {
     "data": {
      "text/plain": [
       "'Well, in all fairness, I don\\'t think that McDs still uses MSG; their current ingredients for \"grill seasoning\" are simply salt and pepper. That said, a few years ago, they did use Accent heavily, which is, of course, just a branded MSG product.\\n\\nIt\\'s sort of sad that they seem to have stopped. MSG is amazing and does\\'t deserve the flack it gets. Lots of people claim they react poorly to it, but numerous studies have shown that other than a statistically insignificant number of people with serious allergies, most people aren\\'t able to detect its presence in their food without being told about it first, and they don\\'t suffer from a negative reaction other than a psychosomatic one when they think they\\'ve consumed it and believe it will harm them.\\n\\nBut, it got a lot of bad press and people started witchhunts, so now I gotta start bringing my own shaker of Accent to McDonald\\'s! \\n\\n NEXT COMMENT:That\\'s the reason I season a lot of my own cooking heavily with MSG. It is fucking magic.\\n\\nNot everything mind you, but it works in a surprising amount of contexts.'"
      ]
     },
     "execution_count": 73,
     "metadata": {},
     "output_type": "execute_result"
    }
   ],
   "source": [
    "authors.iloc[4]['body']"
   ]
  },
  {
   "cell_type": "code",
   "execution_count": 74,
   "metadata": {},
   "outputs": [],
   "source": [
    "authors.to_csv('test.csv')"
   ]
  },
  {
   "cell_type": "code",
   "execution_count": 38,
   "metadata": {},
   "outputs": [
    {
     "data": {
      "text/html": [
       "<div>\n",
       "<style scoped>\n",
       "    .dataframe tbody tr th:only-of-type {\n",
       "        vertical-align: middle;\n",
       "    }\n",
       "\n",
       "    .dataframe tbody tr th {\n",
       "        vertical-align: top;\n",
       "    }\n",
       "\n",
       "    .dataframe thead th {\n",
       "        text-align: right;\n",
       "    }\n",
       "</style>\n",
       "<table border=\"1\" class=\"dataframe\">\n",
       "  <thead>\n",
       "    <tr style=\"text-align: right;\">\n",
       "      <th></th>\n",
       "      <th>nr_comments</th>\n",
       "      <th>total_score</th>\n",
       "      <th>former</th>\n",
       "      <th>recent</th>\n",
       "    </tr>\n",
       "    <tr>\n",
       "      <th>author</th>\n",
       "      <th></th>\n",
       "      <th></th>\n",
       "      <th></th>\n",
       "      <th></th>\n",
       "    </tr>\n",
       "  </thead>\n",
       "  <tbody>\n",
       "    <tr>\n",
       "      <th>GrumpySteen</th>\n",
       "      <td>7</td>\n",
       "      <td>52</td>\n",
       "      <td>True</td>\n",
       "      <td>True</td>\n",
       "    </tr>\n",
       "    <tr>\n",
       "      <th>Riddul</th>\n",
       "      <td>3</td>\n",
       "      <td>8</td>\n",
       "      <td>True</td>\n",
       "      <td>True</td>\n",
       "    </tr>\n",
       "    <tr>\n",
       "      <th>ameoba</th>\n",
       "      <td>6</td>\n",
       "      <td>64</td>\n",
       "      <td>True</td>\n",
       "      <td>True</td>\n",
       "    </tr>\n",
       "    <tr>\n",
       "      <th>chromiselda</th>\n",
       "      <td>2</td>\n",
       "      <td>6</td>\n",
       "      <td>True</td>\n",
       "      <td>True</td>\n",
       "    </tr>\n",
       "    <tr>\n",
       "      <th>eastshores</th>\n",
       "      <td>2</td>\n",
       "      <td>97</td>\n",
       "      <td>True</td>\n",
       "      <td>True</td>\n",
       "    </tr>\n",
       "    <tr>\n",
       "      <th>jmalbo35</th>\n",
       "      <td>2</td>\n",
       "      <td>2</td>\n",
       "      <td>True</td>\n",
       "      <td>True</td>\n",
       "    </tr>\n",
       "    <tr>\n",
       "      <th>mrhoopers</th>\n",
       "      <td>5</td>\n",
       "      <td>8</td>\n",
       "      <td>True</td>\n",
       "      <td>True</td>\n",
       "    </tr>\n",
       "  </tbody>\n",
       "</table>\n",
       "</div>"
      ],
      "text/plain": [
       "             nr_comments  total_score  former  recent\n",
       "author                                               \n",
       "GrumpySteen            7           52    True    True\n",
       "Riddul                 3            8    True    True\n",
       "ameoba                 6           64    True    True\n",
       "chromiselda            2            6    True    True\n",
       "eastshores             2           97    True    True\n",
       "jmalbo35               2            2    True    True\n",
       "mrhoopers              5            8    True    True"
      ]
     },
     "execution_count": 38,
     "metadata": {},
     "output_type": "execute_result"
    }
   ],
   "source": [
    "authors[authors[['former','recent']].all(axis=1)]"
   ]
  },
  {
   "cell_type": "code",
   "execution_count": 104,
   "metadata": {},
   "outputs": [],
   "source": [
    "authors_2008.reset_index(inplace=True)"
   ]
  },
  {
   "cell_type": "code",
   "execution_count": 107,
   "metadata": {},
   "outputs": [
    {
     "data": {
      "text/html": [
       "<div>\n",
       "<style scoped>\n",
       "    .dataframe tbody tr th:only-of-type {\n",
       "        vertical-align: middle;\n",
       "    }\n",
       "\n",
       "    .dataframe tbody tr th {\n",
       "        vertical-align: top;\n",
       "    }\n",
       "\n",
       "    .dataframe thead th {\n",
       "        text-align: right;\n",
       "    }\n",
       "</style>\n",
       "<table border=\"1\" class=\"dataframe\">\n",
       "  <thead>\n",
       "    <tr style=\"text-align: right;\">\n",
       "      <th></th>\n",
       "      <th>author</th>\n",
       "      <th>nr_comments</th>\n",
       "      <th>first_comment</th>\n",
       "      <th>last_comment</th>\n",
       "      <th>total_score</th>\n",
       "    </tr>\n",
       "  </thead>\n",
       "  <tbody>\n",
       "    <tr>\n",
       "      <th>0</th>\n",
       "      <td>1n1billionAZNsay</td>\n",
       "      <td>2</td>\n",
       "      <td>2010</td>\n",
       "      <td>2012</td>\n",
       "      <td>12</td>\n",
       "    </tr>\n",
       "    <tr>\n",
       "      <th>1</th>\n",
       "      <td>1point618</td>\n",
       "      <td>1</td>\n",
       "      <td>2010</td>\n",
       "      <td>2010</td>\n",
       "      <td>6</td>\n",
       "    </tr>\n",
       "    <tr>\n",
       "      <th>2</th>\n",
       "      <td>2Cuil4School</td>\n",
       "      <td>2</td>\n",
       "      <td>2012</td>\n",
       "      <td>2012</td>\n",
       "      <td>10</td>\n",
       "    </tr>\n",
       "    <tr>\n",
       "      <th>3</th>\n",
       "      <td>78fivealive</td>\n",
       "      <td>1</td>\n",
       "      <td>2011</td>\n",
       "      <td>2011</td>\n",
       "      <td>3</td>\n",
       "    </tr>\n",
       "    <tr>\n",
       "      <th>4</th>\n",
       "      <td>AngMoKio</td>\n",
       "      <td>2</td>\n",
       "      <td>2010</td>\n",
       "      <td>2010</td>\n",
       "      <td>2</td>\n",
       "    </tr>\n",
       "    <tr>\n",
       "      <th>5</th>\n",
       "      <td>AntiMe</td>\n",
       "      <td>1</td>\n",
       "      <td>2012</td>\n",
       "      <td>2012</td>\n",
       "      <td>5</td>\n",
       "    </tr>\n",
       "    <tr>\n",
       "      <th>6</th>\n",
       "      <td>Antonskarp</td>\n",
       "      <td>1</td>\n",
       "      <td>2012</td>\n",
       "      <td>2012</td>\n",
       "      <td>1</td>\n",
       "    </tr>\n",
       "    <tr>\n",
       "      <th>7</th>\n",
       "      <td>ApsleyHouse</td>\n",
       "      <td>1</td>\n",
       "      <td>2010</td>\n",
       "      <td>2010</td>\n",
       "      <td>2</td>\n",
       "    </tr>\n",
       "    <tr>\n",
       "      <th>8</th>\n",
       "      <td>ArduousKetchup</td>\n",
       "      <td>3</td>\n",
       "      <td>2010</td>\n",
       "      <td>2010</td>\n",
       "      <td>7</td>\n",
       "    </tr>\n",
       "    <tr>\n",
       "      <th>9</th>\n",
       "      <td>AustinBrister</td>\n",
       "      <td>3</td>\n",
       "      <td>2011</td>\n",
       "      <td>2011</td>\n",
       "      <td>3</td>\n",
       "    </tr>\n",
       "    <tr>\n",
       "      <th>10</th>\n",
       "      <td>BCHarvey</td>\n",
       "      <td>2</td>\n",
       "      <td>2009</td>\n",
       "      <td>2010</td>\n",
       "      <td>20</td>\n",
       "    </tr>\n",
       "    <tr>\n",
       "      <th>11</th>\n",
       "      <td>Bachstar</td>\n",
       "      <td>1</td>\n",
       "      <td>2012</td>\n",
       "      <td>2012</td>\n",
       "      <td>3</td>\n",
       "    </tr>\n",
       "    <tr>\n",
       "      <th>12</th>\n",
       "      <td>Barking_at_the_Moon</td>\n",
       "      <td>1</td>\n",
       "      <td>2012</td>\n",
       "      <td>2012</td>\n",
       "      <td>3</td>\n",
       "    </tr>\n",
       "    <tr>\n",
       "      <th>13</th>\n",
       "      <td>BarneyStinson</td>\n",
       "      <td>1</td>\n",
       "      <td>2012</td>\n",
       "      <td>2012</td>\n",
       "      <td>2</td>\n",
       "    </tr>\n",
       "    <tr>\n",
       "      <th>14</th>\n",
       "      <td>BaroccoliObama</td>\n",
       "      <td>1</td>\n",
       "      <td>2011</td>\n",
       "      <td>2011</td>\n",
       "      <td>3</td>\n",
       "    </tr>\n",
       "    <tr>\n",
       "      <th>15</th>\n",
       "      <td>Baron_Rogue</td>\n",
       "      <td>1</td>\n",
       "      <td>2011</td>\n",
       "      <td>2011</td>\n",
       "      <td>8</td>\n",
       "    </tr>\n",
       "    <tr>\n",
       "      <th>16</th>\n",
       "      <td>BatmanBinSuparman</td>\n",
       "      <td>2</td>\n",
       "      <td>2010</td>\n",
       "      <td>2010</td>\n",
       "      <td>3</td>\n",
       "    </tr>\n",
       "    <tr>\n",
       "      <th>17</th>\n",
       "      <td>BattleHall</td>\n",
       "      <td>9</td>\n",
       "      <td>2010</td>\n",
       "      <td>2012</td>\n",
       "      <td>19</td>\n",
       "    </tr>\n",
       "    <tr>\n",
       "      <th>18</th>\n",
       "      <td>Benny_Lava</td>\n",
       "      <td>1</td>\n",
       "      <td>2008</td>\n",
       "      <td>2008</td>\n",
       "      <td>3</td>\n",
       "    </tr>\n",
       "    <tr>\n",
       "      <th>19</th>\n",
       "      <td>BigCliff</td>\n",
       "      <td>1</td>\n",
       "      <td>2011</td>\n",
       "      <td>2011</td>\n",
       "      <td>1</td>\n",
       "    </tr>\n",
       "  </tbody>\n",
       "</table>\n",
       "</div>"
      ],
      "text/plain": [
       "                 author  nr_comments  first_comment  last_comment  total_score\n",
       "0      1n1billionAZNsay            2           2010          2012           12\n",
       "1             1point618            1           2010          2010            6\n",
       "2          2Cuil4School            2           2012          2012           10\n",
       "3           78fivealive            1           2011          2011            3\n",
       "4              AngMoKio            2           2010          2010            2\n",
       "5                AntiMe            1           2012          2012            5\n",
       "6            Antonskarp            1           2012          2012            1\n",
       "7           ApsleyHouse            1           2010          2010            2\n",
       "8        ArduousKetchup            3           2010          2010            7\n",
       "9         AustinBrister            3           2011          2011            3\n",
       "10             BCHarvey            2           2009          2010           20\n",
       "11             Bachstar            1           2012          2012            3\n",
       "12  Barking_at_the_Moon            1           2012          2012            3\n",
       "13        BarneyStinson            1           2012          2012            2\n",
       "14       BaroccoliObama            1           2011          2011            3\n",
       "15          Baron_Rogue            1           2011          2011            8\n",
       "16    BatmanBinSuparman            2           2010          2010            3\n",
       "17           BattleHall            9           2010          2012           19\n",
       "18           Benny_Lava            1           2008          2008            3\n",
       "19             BigCliff            1           2011          2011            1"
      ]
     },
     "execution_count": 107,
     "metadata": {},
     "output_type": "execute_result"
    }
   ],
   "source": [
    "authors_2008.head(20)"
   ]
  },
  {
   "cell_type": "markdown",
   "metadata": {},
   "source": [
    "# Preparing annotation files"
   ]
  },
  {
   "cell_type": "code",
   "execution_count": 46,
   "metadata": {},
   "outputs": [],
   "source": [
    "data_2014['year'] = '2008'\n",
    "data_2019['year'] = '2019'\n",
    "data_combined = pd.concat([data_2014,data_2019]).reset_index(drop=True)"
   ]
  },
  {
   "cell_type": "code",
   "execution_count": 47,
   "metadata": {},
   "outputs": [
    {
     "data": {
      "text/html": [
       "<div>\n",
       "<style scoped>\n",
       "    .dataframe tbody tr th:only-of-type {\n",
       "        vertical-align: middle;\n",
       "    }\n",
       "\n",
       "    .dataframe tbody tr th {\n",
       "        vertical-align: top;\n",
       "    }\n",
       "\n",
       "    .dataframe thead th {\n",
       "        text-align: right;\n",
       "    }\n",
       "</style>\n",
       "<table border=\"1\" class=\"dataframe\">\n",
       "  <thead>\n",
       "    <tr style=\"text-align: right;\">\n",
       "      <th></th>\n",
       "      <th>body</th>\n",
       "      <th>match</th>\n",
       "      <th>author</th>\n",
       "      <th>score</th>\n",
       "      <th>subreddit</th>\n",
       "      <th>time</th>\n",
       "      <th>month</th>\n",
       "      <th>year</th>\n",
       "    </tr>\n",
       "  </thead>\n",
       "  <tbody>\n",
       "    <tr>\n",
       "      <th>0</th>\n",
       "      <td>Well the noodles contain MSG. I would use the ...</td>\n",
       "      <td>MSG</td>\n",
       "      <td>Jkins20</td>\n",
       "      <td>-5</td>\n",
       "      <td>Cooking</td>\n",
       "      <td>2012-05-10 02:29:15 UTC</td>\n",
       "      <td>5</td>\n",
       "      <td>2014</td>\n",
       "    </tr>\n",
       "    <tr>\n",
       "      <th>1</th>\n",
       "      <td>I'm convinced Knorr is secretly holding Marco'...</td>\n",
       "      <td>MSG</td>\n",
       "      <td>EndlessAutumn</td>\n",
       "      <td>5</td>\n",
       "      <td>Cooking</td>\n",
       "      <td>2012-10-19 15:36:52 UTC</td>\n",
       "      <td>10</td>\n",
       "      <td>2014</td>\n",
       "    </tr>\n",
       "    <tr>\n",
       "      <th>2</th>\n",
       "      <td>MSG</td>\n",
       "      <td>MSG</td>\n",
       "      <td>ameoba</td>\n",
       "      <td>1</td>\n",
       "      <td>Cooking</td>\n",
       "      <td>2012-01-20 06:38:59 UTC</td>\n",
       "      <td>1</td>\n",
       "      <td>2014</td>\n",
       "    </tr>\n",
       "    <tr>\n",
       "      <th>3</th>\n",
       "      <td>I worked in a Chinese restaurant one summer &amp;a...</td>\n",
       "      <td>MSG</td>\n",
       "      <td>ameoba</td>\n",
       "      <td>1</td>\n",
       "      <td>Cooking</td>\n",
       "      <td>2012-06-12 02:36:10 UTC</td>\n",
       "      <td>6</td>\n",
       "      <td>2014</td>\n",
       "    </tr>\n",
       "    <tr>\n",
       "      <th>4</th>\n",
       "      <td>I'm not sensitive to MSG, but I still try to a...</td>\n",
       "      <td>MSG</td>\n",
       "      <td>meohmy13</td>\n",
       "      <td>2</td>\n",
       "      <td>Cooking</td>\n",
       "      <td>2012-02-16 21:06:44 UTC</td>\n",
       "      <td>2</td>\n",
       "      <td>2014</td>\n",
       "    </tr>\n",
       "    <tr>\n",
       "      <th>...</th>\n",
       "      <td>...</td>\n",
       "      <td>...</td>\n",
       "      <td>...</td>\n",
       "      <td>...</td>\n",
       "      <td>...</td>\n",
       "      <td>...</td>\n",
       "      <td>...</td>\n",
       "      <td>...</td>\n",
       "    </tr>\n",
       "    <tr>\n",
       "      <th>1385</th>\n",
       "      <td>You're going to want to stand out.  Yours need...</td>\n",
       "      <td>MSG</td>\n",
       "      <td>HarryWaters</td>\n",
       "      <td>2</td>\n",
       "      <td>Cooking</td>\n",
       "      <td>2019-01-16 18:18:22 UTC</td>\n",
       "      <td>1</td>\n",
       "      <td>2019</td>\n",
       "    </tr>\n",
       "    <tr>\n",
       "      <th>1386</th>\n",
       "      <td>It's good in a lot of things that involve wet ...</td>\n",
       "      <td>MSG</td>\n",
       "      <td>Kibology</td>\n",
       "      <td>5</td>\n",
       "      <td>Cooking</td>\n",
       "      <td>2019-03-01 21:27:46 UTC</td>\n",
       "      <td>3</td>\n",
       "      <td>2019</td>\n",
       "    </tr>\n",
       "    <tr>\n",
       "      <th>1387</th>\n",
       "      <td>The three top substances for producing the uma...</td>\n",
       "      <td>monosodium glutamate</td>\n",
       "      <td>VegetableMovie</td>\n",
       "      <td>9</td>\n",
       "      <td>Cooking</td>\n",
       "      <td>2019-03-10 00:31:14 UTC</td>\n",
       "      <td>3</td>\n",
       "      <td>2019</td>\n",
       "    </tr>\n",
       "    <tr>\n",
       "      <th>1388</th>\n",
       "      <td>It is pretty well known that anchovies == Ital...</td>\n",
       "      <td>MSG</td>\n",
       "      <td>Lululemonparty_</td>\n",
       "      <td>1</td>\n",
       "      <td>Cooking</td>\n",
       "      <td>2019-03-27 12:05:55 UTC</td>\n",
       "      <td>3</td>\n",
       "      <td>2019</td>\n",
       "    </tr>\n",
       "    <tr>\n",
       "      <th>1389</th>\n",
       "      <td>I have no problem with MSG - I use it a lot in...</td>\n",
       "      <td>MSG</td>\n",
       "      <td>LeGourmetTV</td>\n",
       "      <td>11</td>\n",
       "      <td>Cooking</td>\n",
       "      <td>2019-03-01 13:24:14 UTC</td>\n",
       "      <td>3</td>\n",
       "      <td>2019</td>\n",
       "    </tr>\n",
       "  </tbody>\n",
       "</table>\n",
       "<p>1390 rows × 8 columns</p>\n",
       "</div>"
      ],
      "text/plain": [
       "                                                   body                 match  \\\n",
       "0     Well the noodles contain MSG. I would use the ...                   MSG   \n",
       "1     I'm convinced Knorr is secretly holding Marco'...                   MSG   \n",
       "2                                                   MSG                   MSG   \n",
       "3     I worked in a Chinese restaurant one summer &a...                   MSG   \n",
       "4     I'm not sensitive to MSG, but I still try to a...                   MSG   \n",
       "...                                                 ...                   ...   \n",
       "1385  You're going to want to stand out.  Yours need...                   MSG   \n",
       "1386  It's good in a lot of things that involve wet ...                   MSG   \n",
       "1387  The three top substances for producing the uma...  monosodium glutamate   \n",
       "1388  It is pretty well known that anchovies == Ital...                   MSG   \n",
       "1389  I have no problem with MSG - I use it a lot in...                   MSG   \n",
       "\n",
       "               author  score subreddit                     time  month  year  \n",
       "0             Jkins20     -5   Cooking  2012-05-10 02:29:15 UTC      5  2014  \n",
       "1       EndlessAutumn      5   Cooking  2012-10-19 15:36:52 UTC     10  2014  \n",
       "2              ameoba      1   Cooking  2012-01-20 06:38:59 UTC      1  2014  \n",
       "3              ameoba      1   Cooking  2012-06-12 02:36:10 UTC      6  2014  \n",
       "4            meohmy13      2   Cooking  2012-02-16 21:06:44 UTC      2  2014  \n",
       "...               ...    ...       ...                      ...    ...   ...  \n",
       "1385      HarryWaters      2   Cooking  2019-01-16 18:18:22 UTC      1  2019  \n",
       "1386         Kibology      5   Cooking  2019-03-01 21:27:46 UTC      3  2019  \n",
       "1387   VegetableMovie      9   Cooking  2019-03-10 00:31:14 UTC      3  2019  \n",
       "1388  Lululemonparty_      1   Cooking  2019-03-27 12:05:55 UTC      3  2019  \n",
       "1389      LeGourmetTV     11   Cooking  2019-03-01 13:24:14 UTC      3  2019  \n",
       "\n",
       "[1390 rows x 8 columns]"
      ]
     },
     "execution_count": 47,
     "metadata": {},
     "output_type": "execute_result"
    }
   ],
   "source": [
    "data_combined"
   ]
  },
  {
   "cell_type": "code",
   "execution_count": 48,
   "metadata": {},
   "outputs": [],
   "source": [
    "annotation_data = data_combined[['body','year','score']].sample(frac=1,random_state=2020)\n",
    "annotation_data['stance'] = ''\n",
    "annotation_data['use'] = ''"
   ]
  },
  {
   "cell_type": "code",
   "execution_count": 86,
   "metadata": {},
   "outputs": [],
   "source": [
    "#creating annotation file\n",
    "annotation_data[['year','score']].to_csv('year_index.csv')\n",
    "annotation_data[['body','stance','use']].to_csv('annotation_file.csv')"
   ]
  },
  {
   "cell_type": "markdown",
   "metadata": {},
   "source": [
    "# Analyzing annotated files"
   ]
  },
  {
   "cell_type": "code",
   "execution_count": 32,
   "metadata": {},
   "outputs": [],
   "source": [
    "annotated_data = pd.read_csv('annotation_file.csv',index_col='Unnamed: 0')\n",
    "annotated_data.drop(['Unnamed: 4','Unnamed: 5'],axis=1,inplace=True)"
   ]
  },
  {
   "cell_type": "code",
   "execution_count": 34,
   "metadata": {},
   "outputs": [],
   "source": [
    "year_index = pd.read_csv('year_index.csv',index_col='Unnamed: 0')"
   ]
  },
  {
   "cell_type": "code",
   "execution_count": 35,
   "metadata": {},
   "outputs": [
    {
     "data": {
      "text/html": [
       "<div>\n",
       "<style scoped>\n",
       "    .dataframe tbody tr th:only-of-type {\n",
       "        vertical-align: middle;\n",
       "    }\n",
       "\n",
       "    .dataframe tbody tr th {\n",
       "        vertical-align: top;\n",
       "    }\n",
       "\n",
       "    .dataframe thead th {\n",
       "        text-align: right;\n",
       "    }\n",
       "</style>\n",
       "<table border=\"1\" class=\"dataframe\">\n",
       "  <thead>\n",
       "    <tr style=\"text-align: right;\">\n",
       "      <th></th>\n",
       "      <th>year</th>\n",
       "    </tr>\n",
       "  </thead>\n",
       "  <tbody>\n",
       "    <tr>\n",
       "      <th>872</th>\n",
       "      <td>2019</td>\n",
       "    </tr>\n",
       "    <tr>\n",
       "      <th>829</th>\n",
       "      <td>2019</td>\n",
       "    </tr>\n",
       "    <tr>\n",
       "      <th>836</th>\n",
       "      <td>2019</td>\n",
       "    </tr>\n",
       "    <tr>\n",
       "      <th>807</th>\n",
       "      <td>2019</td>\n",
       "    </tr>\n",
       "    <tr>\n",
       "      <th>993</th>\n",
       "      <td>2019</td>\n",
       "    </tr>\n",
       "    <tr>\n",
       "      <th>...</th>\n",
       "      <td>...</td>\n",
       "    </tr>\n",
       "    <tr>\n",
       "      <th>707</th>\n",
       "      <td>2019</td>\n",
       "    </tr>\n",
       "    <tr>\n",
       "      <th>630</th>\n",
       "      <td>2019</td>\n",
       "    </tr>\n",
       "    <tr>\n",
       "      <th>323</th>\n",
       "      <td>2014</td>\n",
       "    </tr>\n",
       "    <tr>\n",
       "      <th>392</th>\n",
       "      <td>2019</td>\n",
       "    </tr>\n",
       "    <tr>\n",
       "      <th>864</th>\n",
       "      <td>2019</td>\n",
       "    </tr>\n",
       "  </tbody>\n",
       "</table>\n",
       "<p>1024 rows × 1 columns</p>\n",
       "</div>"
      ],
      "text/plain": [
       "     year\n",
       "872  2019\n",
       "829  2019\n",
       "836  2019\n",
       "807  2019\n",
       "993  2019\n",
       "..    ...\n",
       "707  2019\n",
       "630  2019\n",
       "323  2014\n",
       "392  2019\n",
       "864  2019\n",
       "\n",
       "[1024 rows x 1 columns]"
      ]
     },
     "execution_count": 35,
     "metadata": {},
     "output_type": "execute_result"
    }
   ],
   "source": [
    "year_index"
   ]
  },
  {
   "cell_type": "code",
   "execution_count": 38,
   "metadata": {},
   "outputs": [],
   "source": [
    "annotated_data = annotated_data.join(year_index)"
   ]
  },
  {
   "cell_type": "code",
   "execution_count": 39,
   "metadata": {},
   "outputs": [
    {
     "data": {
      "text/html": [
       "<div>\n",
       "<style scoped>\n",
       "    .dataframe tbody tr th:only-of-type {\n",
       "        vertical-align: middle;\n",
       "    }\n",
       "\n",
       "    .dataframe tbody tr th {\n",
       "        vertical-align: top;\n",
       "    }\n",
       "\n",
       "    .dataframe thead th {\n",
       "        text-align: right;\n",
       "    }\n",
       "</style>\n",
       "<table border=\"1\" class=\"dataframe\">\n",
       "  <thead>\n",
       "    <tr style=\"text-align: right;\">\n",
       "      <th></th>\n",
       "      <th>body</th>\n",
       "      <th>stance</th>\n",
       "      <th>use</th>\n",
       "      <th>year</th>\n",
       "    </tr>\n",
       "  </thead>\n",
       "  <tbody>\n",
       "    <tr>\n",
       "      <th>872</th>\n",
       "      <td>I cook with salt, fat, carbs (*especially* car...</td>\n",
       "      <td>.</td>\n",
       "      <td>NaN</td>\n",
       "      <td>2019</td>\n",
       "    </tr>\n",
       "    <tr>\n",
       "      <th>829</th>\n",
       "      <td>its okay, i sneak garlic, shallots, onions, ms...</td>\n",
       "      <td>.</td>\n",
       "      <td>NaN</td>\n",
       "      <td>2019</td>\n",
       "    </tr>\n",
       "    <tr>\n",
       "      <th>836</th>\n",
       "      <td>I feel we all know someone who isn't happy unt...</td>\n",
       "      <td>.</td>\n",
       "      <td>NaN</td>\n",
       "      <td>2019</td>\n",
       "    </tr>\n",
       "    <tr>\n",
       "      <th>807</th>\n",
       "      <td>I'll add a conservative amount of MSG before s...</td>\n",
       "      <td>.</td>\n",
       "      <td>NaN</td>\n",
       "      <td>2019</td>\n",
       "    </tr>\n",
       "    <tr>\n",
       "      <th>993</th>\n",
       "      <td>MSG is delicious and don’t let anyone tell you...</td>\n",
       "      <td>+</td>\n",
       "      <td>NaN</td>\n",
       "      <td>2019</td>\n",
       "    </tr>\n",
       "    <tr>\n",
       "      <th>...</th>\n",
       "      <td>...</td>\n",
       "      <td>...</td>\n",
       "      <td>...</td>\n",
       "      <td>...</td>\n",
       "    </tr>\n",
       "    <tr>\n",
       "      <th>707</th>\n",
       "      <td>I am convinced that whenever a Serious Eats re...</td>\n",
       "      <td>NaN</td>\n",
       "      <td>NaN</td>\n",
       "      <td>2019</td>\n",
       "    </tr>\n",
       "    <tr>\n",
       "      <th>630</th>\n",
       "      <td>Personally, I found MSG useful in fish soups ...</td>\n",
       "      <td>NaN</td>\n",
       "      <td>NaN</td>\n",
       "      <td>2019</td>\n",
       "    </tr>\n",
       "    <tr>\n",
       "      <th>323</th>\n",
       "      <td>Ding Ding Ding...it is in fact Sodexo.   And s...</td>\n",
       "      <td>NaN</td>\n",
       "      <td>NaN</td>\n",
       "      <td>2014</td>\n",
       "    </tr>\n",
       "    <tr>\n",
       "      <th>392</th>\n",
       "      <td>Damn homeboy. Either he trying to give you blo...</td>\n",
       "      <td>NaN</td>\n",
       "      <td>NaN</td>\n",
       "      <td>2019</td>\n",
       "    </tr>\n",
       "    <tr>\n",
       "      <th>864</th>\n",
       "      <td>Better than Bouillon seems to be the go to ans...</td>\n",
       "      <td>NaN</td>\n",
       "      <td>NaN</td>\n",
       "      <td>2019</td>\n",
       "    </tr>\n",
       "  </tbody>\n",
       "</table>\n",
       "<p>1024 rows × 4 columns</p>\n",
       "</div>"
      ],
      "text/plain": [
       "                                                  body stance  use  year\n",
       "872  I cook with salt, fat, carbs (*especially* car...      .  NaN  2019\n",
       "829  its okay, i sneak garlic, shallots, onions, ms...      .  NaN  2019\n",
       "836  I feel we all know someone who isn't happy unt...      .  NaN  2019\n",
       "807  I'll add a conservative amount of MSG before s...      .  NaN  2019\n",
       "993  MSG is delicious and don’t let anyone tell you...      +  NaN  2019\n",
       "..                                                 ...    ...  ...   ...\n",
       "707  I am convinced that whenever a Serious Eats re...    NaN  NaN  2019\n",
       "630   Personally, I found MSG useful in fish soups ...    NaN  NaN  2019\n",
       "323  Ding Ding Ding...it is in fact Sodexo.   And s...    NaN  NaN  2014\n",
       "392  Damn homeboy. Either he trying to give you blo...    NaN  NaN  2019\n",
       "864  Better than Bouillon seems to be the go to ans...    NaN  NaN  2019\n",
       "\n",
       "[1024 rows x 4 columns]"
      ]
     },
     "execution_count": 39,
     "metadata": {},
     "output_type": "execute_result"
    }
   ],
   "source": [
    "annotated_data "
   ]
  },
  {
   "cell_type": "code",
   "execution_count": 44,
   "metadata": {},
   "outputs": [],
   "source": [
    "#Analyzing statistics annotated data\n",
    "annotated_rows = annotated_data[annotated_data ['stance'].notnull()]\n"
   ]
  },
  {
   "cell_type": "code",
   "execution_count": 81,
   "metadata": {},
   "outputs": [
    {
     "name": "stdout",
     "output_type": "stream",
     "text": [
      "Total annotations per year:\n",
      "2019: 34\n",
      "2014: 12\n",
      "Percentage annotations per year:\n",
      "2019: 0.049635036496350364\n",
      "2014: 0.035398230088495575\n",
      "Off the annotated rows, percentages outcome in 2019:\n",
      "+: 0.17647058823529413\n",
      ".: 0.7352941176470589\n",
      "-: 0.0\n",
      "Off the annotated rows, percentages outcome in 2014:\n",
      "+: 0.25\n",
      ".: 0.6666666666666666\n",
      "-: 0.08333333333333333\n"
     ]
    }
   ],
   "source": [
    "print('Total annotations per year:')\n",
    "year_count = annotated_rows['year'].value_counts()\n",
    "print(f'2019: {year_count[2019]}')\n",
    "print(f'2014: {year_count[2014]}')\n",
    "print('Percentage annotations per year:')\n",
    "year_count_total = annotated_data['year'].value_counts()\n",
    "print(f'2019: {year_count[2019]/year_count_total[2019]}')\n",
    "print(f'2014: {year_count[2014]/year_count_total[2014]}')\n",
    "print('Off the annotated rows, percentages outcome in 2019:')\n",
    "count_2014 = annotated_rows[annotated_rows['year'] == 2014]['stance'].value_counts()\n",
    "count_2019 = annotated_rows[annotated_rows['year'] == 2019]['stance'].value_counts()\n",
    "print(f'+: {count_2019.get(\"+\",0)/year_count[2019]}')\n",
    "print(f'.: {count_2019.get(\".\",0)/year_count[2019]}')\n",
    "print(f'-: {count_2019.get(\"-\",0)/year_count[2019]}')\n",
    "print('Off the annotated rows, percentages outcome in 2014:')\n",
    "print(f'+: {count_2014.get(\"+\",0)/year_count[2014]}')\n",
    "print(f'.: {count_2014.get(\".\",0)/year_count[2014]}')\n",
    "print(f'-: {count_2014.get(\"-\",0)/year_count[2014]}')"
   ]
  },
  {
   "cell_type": "code",
   "execution_count": 58,
   "metadata": {},
   "outputs": [
    {
     "data": {
      "text/plain": [
       "34"
      ]
     },
     "execution_count": 58,
     "metadata": {},
     "output_type": "execute_result"
    }
   ],
   "source": [
    "year_count[2019]"
   ]
  },
  {
   "cell_type": "code",
   "execution_count": null,
   "metadata": {},
   "outputs": [],
   "source": []
  }
 ],
 "metadata": {
  "kernelspec": {
   "display_name": "Python 3",
   "language": "python",
   "name": "python3"
  },
  "language_info": {
   "codemirror_mode": {
    "name": "ipython",
    "version": 3
   },
   "file_extension": ".py",
   "mimetype": "text/x-python",
   "name": "python",
   "nbconvert_exporter": "python",
   "pygments_lexer": "ipython3",
   "version": "3.8.3"
  }
 },
 "nbformat": 4,
 "nbformat_minor": 4
}
