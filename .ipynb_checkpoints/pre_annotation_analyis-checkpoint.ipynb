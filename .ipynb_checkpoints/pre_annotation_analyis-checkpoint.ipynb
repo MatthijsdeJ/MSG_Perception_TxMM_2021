{
 "cells": [
  {
   "cell_type": "code",
   "execution_count": 1,
   "metadata": {},
   "outputs": [],
   "source": [
    "import pandas as pd\n",
    "import numpy as np\n",
    "import matplotlib.pyplot as plt\n",
    "from IPython.display import display, HTML\n",
    "import sklearn as skl"
   ]
  },
  {
   "cell_type": "markdown",
   "metadata": {},
   "source": [
    "# Analysis"
   ]
  },
  {
   "cell_type": "markdown",
   "metadata": {},
   "source": [
    "## 2008-2012"
   ]
  },
  {
   "cell_type": "code",
   "execution_count": 2,
   "metadata": {},
   "outputs": [
    {
     "data": {
      "text/html": [
       "<div>\n",
       "<style scoped>\n",
       "    .dataframe tbody tr th:only-of-type {\n",
       "        vertical-align: middle;\n",
       "    }\n",
       "\n",
       "    .dataframe tbody tr th {\n",
       "        vertical-align: top;\n",
       "    }\n",
       "\n",
       "    .dataframe thead th {\n",
       "        text-align: right;\n",
       "    }\n",
       "</style>\n",
       "<table border=\"1\" class=\"dataframe\">\n",
       "  <thead>\n",
       "    <tr style=\"text-align: right;\">\n",
       "      <th></th>\n",
       "      <th>body</th>\n",
       "      <th>match</th>\n",
       "      <th>author</th>\n",
       "      <th>score</th>\n",
       "      <th>subreddit</th>\n",
       "      <th>time</th>\n",
       "      <th>month</th>\n",
       "      <th>year</th>\n",
       "    </tr>\n",
       "  </thead>\n",
       "  <tbody>\n",
       "    <tr>\n",
       "      <th>0</th>\n",
       "      <td>Well the noodles contain MSG. I would use the ...</td>\n",
       "      <td>MSG</td>\n",
       "      <td>Jkins20</td>\n",
       "      <td>-5</td>\n",
       "      <td>Cooking</td>\n",
       "      <td>2012-05-10 02:29:15 UTC</td>\n",
       "      <td>5</td>\n",
       "      <td>2012</td>\n",
       "    </tr>\n",
       "    <tr>\n",
       "      <th>1</th>\n",
       "      <td>I'm convinced Knorr is secretly holding Marco'...</td>\n",
       "      <td>MSG</td>\n",
       "      <td>EndlessAutumn</td>\n",
       "      <td>5</td>\n",
       "      <td>Cooking</td>\n",
       "      <td>2012-10-19 15:36:52 UTC</td>\n",
       "      <td>10</td>\n",
       "      <td>2012</td>\n",
       "    </tr>\n",
       "    <tr>\n",
       "      <th>2</th>\n",
       "      <td>MSG</td>\n",
       "      <td>MSG</td>\n",
       "      <td>ameoba</td>\n",
       "      <td>1</td>\n",
       "      <td>Cooking</td>\n",
       "      <td>2012-01-20 06:38:59 UTC</td>\n",
       "      <td>1</td>\n",
       "      <td>2012</td>\n",
       "    </tr>\n",
       "    <tr>\n",
       "      <th>3</th>\n",
       "      <td>I worked in a Chinese restaurant one summer &amp;a...</td>\n",
       "      <td>MSG</td>\n",
       "      <td>ameoba</td>\n",
       "      <td>1</td>\n",
       "      <td>Cooking</td>\n",
       "      <td>2012-06-12 02:36:10 UTC</td>\n",
       "      <td>6</td>\n",
       "      <td>2012</td>\n",
       "    </tr>\n",
       "    <tr>\n",
       "      <th>4</th>\n",
       "      <td>I'm not sensitive to MSG, but I still try to a...</td>\n",
       "      <td>MSG</td>\n",
       "      <td>meohmy13</td>\n",
       "      <td>2</td>\n",
       "      <td>Cooking</td>\n",
       "      <td>2012-02-16 21:06:44 UTC</td>\n",
       "      <td>2</td>\n",
       "      <td>2012</td>\n",
       "    </tr>\n",
       "    <tr>\n",
       "      <th>...</th>\n",
       "      <td>...</td>\n",
       "      <td>...</td>\n",
       "      <td>...</td>\n",
       "      <td>...</td>\n",
       "      <td>...</td>\n",
       "      <td>...</td>\n",
       "      <td>...</td>\n",
       "      <td>...</td>\n",
       "    </tr>\n",
       "    <tr>\n",
       "      <th>708</th>\n",
       "      <td>As do so many negative/positive things have a ...</td>\n",
       "      <td>MSG</td>\n",
       "      <td>jeffois</td>\n",
       "      <td>1</td>\n",
       "      <td>Cooking</td>\n",
       "      <td>2012-05-27 20:32:11 UTC</td>\n",
       "      <td>5</td>\n",
       "      <td>2012</td>\n",
       "    </tr>\n",
       "    <tr>\n",
       "      <th>709</th>\n",
       "      <td>Velveeta? Hell to the no.\\n\\nHormel Beanless C...</td>\n",
       "      <td>Monosodium Glutamate</td>\n",
       "      <td>tinyberlin</td>\n",
       "      <td>5</td>\n",
       "      <td>recipes</td>\n",
       "      <td>2012-09-22 10:49:18 UTC</td>\n",
       "      <td>9</td>\n",
       "      <td>2012</td>\n",
       "    </tr>\n",
       "    <tr>\n",
       "      <th>710</th>\n",
       "      <td>I agree - stick with a soup, preferably one wi...</td>\n",
       "      <td>monosodium glutamate</td>\n",
       "      <td>JansSushiBar</td>\n",
       "      <td>1</td>\n",
       "      <td>Cooking</td>\n",
       "      <td>2012-04-16 14:07:14 UTC</td>\n",
       "      <td>4</td>\n",
       "      <td>2012</td>\n",
       "    </tr>\n",
       "    <tr>\n",
       "      <th>711</th>\n",
       "      <td>This is not as pretty as stock, but it's very ...</td>\n",
       "      <td>msg</td>\n",
       "      <td>xnihil0zer0</td>\n",
       "      <td>1</td>\n",
       "      <td>Cooking</td>\n",
       "      <td>2012-09-26 06:11:45 UTC</td>\n",
       "      <td>9</td>\n",
       "      <td>2012</td>\n",
       "    </tr>\n",
       "    <tr>\n",
       "      <th>712</th>\n",
       "      <td>MSG exists naturally in tomatoes, along with o...</td>\n",
       "      <td>MSG</td>\n",
       "      <td>angryformorebacon</td>\n",
       "      <td>3</td>\n",
       "      <td>Cooking</td>\n",
       "      <td>2012-05-13 03:37:52 UTC</td>\n",
       "      <td>5</td>\n",
       "      <td>2012</td>\n",
       "    </tr>\n",
       "  </tbody>\n",
       "</table>\n",
       "<p>713 rows × 8 columns</p>\n",
       "</div>"
      ],
      "text/plain": [
       "                                                  body                 match  \\\n",
       "0    Well the noodles contain MSG. I would use the ...                   MSG   \n",
       "1    I'm convinced Knorr is secretly holding Marco'...                   MSG   \n",
       "2                                                  MSG                   MSG   \n",
       "3    I worked in a Chinese restaurant one summer &a...                   MSG   \n",
       "4    I'm not sensitive to MSG, but I still try to a...                   MSG   \n",
       "..                                                 ...                   ...   \n",
       "708  As do so many negative/positive things have a ...                   MSG   \n",
       "709  Velveeta? Hell to the no.\\n\\nHormel Beanless C...  Monosodium Glutamate   \n",
       "710  I agree - stick with a soup, preferably one wi...  monosodium glutamate   \n",
       "711  This is not as pretty as stock, but it's very ...                   msg   \n",
       "712  MSG exists naturally in tomatoes, along with o...                   MSG   \n",
       "\n",
       "                author  score subreddit                     time  month  year  \n",
       "0              Jkins20     -5   Cooking  2012-05-10 02:29:15 UTC      5  2012  \n",
       "1        EndlessAutumn      5   Cooking  2012-10-19 15:36:52 UTC     10  2012  \n",
       "2               ameoba      1   Cooking  2012-01-20 06:38:59 UTC      1  2012  \n",
       "3               ameoba      1   Cooking  2012-06-12 02:36:10 UTC      6  2012  \n",
       "4             meohmy13      2   Cooking  2012-02-16 21:06:44 UTC      2  2012  \n",
       "..                 ...    ...       ...                      ...    ...   ...  \n",
       "708            jeffois      1   Cooking  2012-05-27 20:32:11 UTC      5  2012  \n",
       "709         tinyberlin      5   recipes  2012-09-22 10:49:18 UTC      9  2012  \n",
       "710       JansSushiBar      1   Cooking  2012-04-16 14:07:14 UTC      4  2012  \n",
       "711        xnihil0zer0      1   Cooking  2012-09-26 06:11:45 UTC      9  2012  \n",
       "712  angryformorebacon      3   Cooking  2012-05-13 03:37:52 UTC      5  2012  \n",
       "\n",
       "[713 rows x 8 columns]"
      ]
     },
     "execution_count": 2,
     "metadata": {},
     "output_type": "execute_result"
    }
   ],
   "source": [
    "data_2008 = pd.read_csv('Preprocessed_Data/2008-2012.csv')\n",
    "data_2008"
   ]
  },
  {
   "cell_type": "code",
   "execution_count": 3,
   "metadata": {},
   "outputs": [
    {
     "data": {
      "text/plain": [
       "Text(0.5, 1.0, 'Frequency of MSG terms in 2018-2012.')"
      ]
     },
     "execution_count": 3,
     "metadata": {},
     "output_type": "execute_result"
    },
    {
     "data": {
      "image/png": "[encoded data removed]",
      "text/plain": [
       "<Figure size 432x288 with 1 Axes>"
      ]
     },
     "metadata": {
      "needs_background": "light"
     },
     "output_type": "display_data"
    }
   ],
   "source": [
    "#MSG names bar plot\n",
    "name_freq = data_2008['match'].value_counts()\n",
    "name_freq\n",
    "plt.bar(name_freq.index,name_freq)\n",
    "plt.xticks(rotation=45, ha=\"right\")\n",
    "plt.title('Frequency of MSG terms in 2018-2012.')"
   ]
  },
  {
   "cell_type": "code",
   "execution_count": 4,
   "metadata": {},
   "outputs": [
    {
     "data": {
      "text/plain": [
       "BattleHall          9\n",
       "ReallyEvilCanine    8\n",
       "Bran_Solo           8\n",
       "smacksaw            7\n",
       "dtwhitecp           7\n",
       "                   ..\n",
       "mehwhocares         1\n",
       "iyamthewallruss     1\n",
       "heavysteve          1\n",
       "Riddul              1\n",
       "buffyandgeorge      1\n",
       "Name: author, Length: 486, dtype: int64"
      ]
     },
     "execution_count": 4,
     "metadata": {},
     "output_type": "execute_result"
    }
   ],
   "source": [
    "#Inspecting authors\n",
    "name_freq = data_2008['author'].value_counts()\n",
    "name_freq"
   ]
  },
  {
   "cell_type": "code",
   "execution_count": 5,
   "metadata": {},
   "outputs": [
    {
     "data": {
      "text/plain": [
       "Text(0.5, 1.0, 'Histogram of scores of comments mentioning MSG in 2008-2012.')"
      ]
     },
     "execution_count": 5,
     "metadata": {},
     "output_type": "execute_result"
    },
    {
     "data": {
      "image/png": "[encoded data removed]",
      "text/plain": [
       "<Figure size 432x288 with 1 Axes>"
      ]
     },
     "metadata": {
      "needs_background": "light"
     },
     "output_type": "display_data"
    }
   ],
   "source": [
    "#Plotting score histogram\n",
    "plt.hist(data_2008['score'],bins=40)\n",
    "plt.title('Histogram of scores of comments mentioning MSG in 2008-2012.')"
   ]
  },
  {
   "cell_type": "code",
   "execution_count": 6,
   "metadata": {},
   "outputs": [
    {
     "data": {
      "text/plain": [
       "Text(0.5, 1.0, 'Frequency of comments mentioning MSG per subreddits in 2008-2012.')"
      ]
     },
     "execution_count": 6,
     "metadata": {},
     "output_type": "execute_result"
    },
    {
     "data": {
      "image/png": "[encoded data removed]",
      "text/plain": [
       "<Figure size 432x288 with 1 Axes>"
      ]
     },
     "metadata": {
      "needs_background": "light"
     },
     "output_type": "display_data"
    }
   ],
   "source": [
    "#Subreddit bar plot\n",
    "subreddit_freq = data_2008['subreddit'].value_counts()\n",
    "subreddit_freq\n",
    "plt.bar(subreddit_freq.index,subreddit_freq)\n",
    "plt.xticks(rotation=45, ha=\"right\")\n",
    "plt.title('Frequency of comments mentioning MSG per subreddits in 2008-2012.')"
   ]
  },
  {
   "cell_type": "code",
   "execution_count": 53,
   "metadata": {},
   "outputs": [
    {
     "data": {
      "image/png": "[encoded data removed]",
      "text/plain": [
       "<Figure size 432x288 with 1 Axes>"
      ]
     },
     "metadata": {
      "needs_background": "light"
     },
     "output_type": "display_data"
    }
   ],
   "source": [
    "#Subreddit bar plot\n",
    "data_2008_monthly = (data_2008['year']-2008)*12 + data_2008['month']\n",
    "month_freq = data_2008_monthly.value_counts()\n",
    "month_freq\n",
    "plt.bar(month_freq.index,month_freq)\n",
    "plt.xticks(range(month_freq.index.sort_values()[-1])[1::3],rotation=90, ha=\"right\",size=12)\n",
    "plt.title('Frequency of Comments Mentioning MSG per Month in 2008-2012.')\n",
    "plt.xlabel(\"Month\")\n",
    "plt.ylabel(\"Frequency\")\n",
    "ax = plt.gca()\n",
    "plt.show()"
   ]
  },
  {
   "cell_type": "code",
   "execution_count": 41,
   "metadata": {},
   "outputs": [
    {
     "data": {
      "text/plain": [
       "Int64Index([36, 43, 53, 42, 32, 38, 37, 55, 50, 35, 59, 47, 44, 58, 26, 57, 30,\n",
       "            31, 48, 60, 49, 56, 27, 45, 54, 52, 40, 41, 51, 33, 20, 28, 34, 46,\n",
       "            39, 22, 29, 25, 19,  6, 24, 23, 21, 17],\n",
       "           dtype='int64')"
      ]
     },
     "execution_count": 41,
     "metadata": {},
     "output_type": "execute_result"
    }
   ],
   "source": [
    "month_freq.index"
   ]
  },
  {
   "cell_type": "markdown",
   "metadata": {},
   "source": [
    "## 2019"
   ]
  },
  {
   "cell_type": "code",
   "execution_count": 8,
   "metadata": {},
   "outputs": [
    {
     "data": {
      "text/html": [
       "<div>\n",
       "<style scoped>\n",
       "    .dataframe tbody tr th:only-of-type {\n",
       "        vertical-align: middle;\n",
       "    }\n",
       "\n",
       "    .dataframe tbody tr th {\n",
       "        vertical-align: top;\n",
       "    }\n",
       "\n",
       "    .dataframe thead th {\n",
       "        text-align: right;\n",
       "    }\n",
       "</style>\n",
       "<table border=\"1\" class=\"dataframe\">\n",
       "  <thead>\n",
       "    <tr style=\"text-align: right;\">\n",
       "      <th></th>\n",
       "      <th>body</th>\n",
       "      <th>match</th>\n",
       "      <th>author</th>\n",
       "      <th>score</th>\n",
       "      <th>subreddit</th>\n",
       "      <th>time</th>\n",
       "      <th>month</th>\n",
       "    </tr>\n",
       "  </thead>\n",
       "  <tbody>\n",
       "    <tr>\n",
       "      <th>0</th>\n",
       "      <td>Beer, coffee, yeast extract, dark chocolate, w...</td>\n",
       "      <td>MSG</td>\n",
       "      <td>bearded_vaginal_fart</td>\n",
       "      <td>7</td>\n",
       "      <td>Cooking</td>\n",
       "      <td>2019-01-13 00:08:45 UTC</td>\n",
       "      <td>1</td>\n",
       "    </tr>\n",
       "    <tr>\n",
       "      <th>1</th>\n",
       "      <td>Outback Steak Seasoning (which I am guessing i...</td>\n",
       "      <td>MSG</td>\n",
       "      <td>the_talking_dead</td>\n",
       "      <td>8</td>\n",
       "      <td>Cooking</td>\n",
       "      <td>2019-01-13 04:02:13 UTC</td>\n",
       "      <td>1</td>\n",
       "    </tr>\n",
       "    <tr>\n",
       "      <th>2</th>\n",
       "      <td>Fascinating. Haven't seen that before, but all...</td>\n",
       "      <td>MSG</td>\n",
       "      <td>Spock_Drop-n-Roll</td>\n",
       "      <td>1</td>\n",
       "      <td>Cooking</td>\n",
       "      <td>2019-01-09 17:16:26 UTC</td>\n",
       "      <td>1</td>\n",
       "    </tr>\n",
       "    <tr>\n",
       "      <th>3</th>\n",
       "      <td>If you've really bought into the hype you migh...</td>\n",
       "      <td>MSG</td>\n",
       "      <td>AnotherDrZoidberg</td>\n",
       "      <td>4</td>\n",
       "      <td>Cooking</td>\n",
       "      <td>2019-01-09 17:55:37 UTC</td>\n",
       "      <td>1</td>\n",
       "    </tr>\n",
       "    <tr>\n",
       "      <th>4</th>\n",
       "      <td>The pure form is always labelled msg.  I buy o...</td>\n",
       "      <td>msg</td>\n",
       "      <td>COmarmot</td>\n",
       "      <td>1</td>\n",
       "      <td>Cooking</td>\n",
       "      <td>2019-01-01 04:24:21 UTC</td>\n",
       "      <td>1</td>\n",
       "    </tr>\n",
       "    <tr>\n",
       "      <th>...</th>\n",
       "      <td>...</td>\n",
       "      <td>...</td>\n",
       "      <td>...</td>\n",
       "      <td>...</td>\n",
       "      <td>...</td>\n",
       "      <td>...</td>\n",
       "      <td>...</td>\n",
       "    </tr>\n",
       "    <tr>\n",
       "      <th>672</th>\n",
       "      <td>You're going to want to stand out.  Yours need...</td>\n",
       "      <td>MSG</td>\n",
       "      <td>HarryWaters</td>\n",
       "      <td>2</td>\n",
       "      <td>Cooking</td>\n",
       "      <td>2019-01-16 18:18:22 UTC</td>\n",
       "      <td>1</td>\n",
       "    </tr>\n",
       "    <tr>\n",
       "      <th>673</th>\n",
       "      <td>It's good in a lot of things that involve wet ...</td>\n",
       "      <td>MSG</td>\n",
       "      <td>Kibology</td>\n",
       "      <td>5</td>\n",
       "      <td>Cooking</td>\n",
       "      <td>2019-03-01 21:27:46 UTC</td>\n",
       "      <td>3</td>\n",
       "    </tr>\n",
       "    <tr>\n",
       "      <th>674</th>\n",
       "      <td>The three top substances for producing the uma...</td>\n",
       "      <td>monosodium glutamate</td>\n",
       "      <td>VegetableMovie</td>\n",
       "      <td>9</td>\n",
       "      <td>Cooking</td>\n",
       "      <td>2019-03-10 00:31:14 UTC</td>\n",
       "      <td>3</td>\n",
       "    </tr>\n",
       "    <tr>\n",
       "      <th>675</th>\n",
       "      <td>It is pretty well known that anchovies == Ital...</td>\n",
       "      <td>MSG</td>\n",
       "      <td>Lululemonparty_</td>\n",
       "      <td>1</td>\n",
       "      <td>Cooking</td>\n",
       "      <td>2019-03-27 12:05:55 UTC</td>\n",
       "      <td>3</td>\n",
       "    </tr>\n",
       "    <tr>\n",
       "      <th>676</th>\n",
       "      <td>I have no problem with MSG - I use it a lot in...</td>\n",
       "      <td>MSG</td>\n",
       "      <td>LeGourmetTV</td>\n",
       "      <td>11</td>\n",
       "      <td>Cooking</td>\n",
       "      <td>2019-03-01 13:24:14 UTC</td>\n",
       "      <td>3</td>\n",
       "    </tr>\n",
       "  </tbody>\n",
       "</table>\n",
       "<p>677 rows × 7 columns</p>\n",
       "</div>"
      ],
      "text/plain": [
       "                                                  body                 match  \\\n",
       "0    Beer, coffee, yeast extract, dark chocolate, w...                   MSG   \n",
       "1    Outback Steak Seasoning (which I am guessing i...                   MSG   \n",
       "2    Fascinating. Haven't seen that before, but all...                   MSG   \n",
       "3    If you've really bought into the hype you migh...                   MSG   \n",
       "4    The pure form is always labelled msg.  I buy o...                   msg   \n",
       "..                                                 ...                   ...   \n",
       "672  You're going to want to stand out.  Yours need...                   MSG   \n",
       "673  It's good in a lot of things that involve wet ...                   MSG   \n",
       "674  The three top substances for producing the uma...  monosodium glutamate   \n",
       "675  It is pretty well known that anchovies == Ital...                   MSG   \n",
       "676  I have no problem with MSG - I use it a lot in...                   MSG   \n",
       "\n",
       "                   author  score subreddit                     time  month  \n",
       "0    bearded_vaginal_fart      7   Cooking  2019-01-13 00:08:45 UTC      1  \n",
       "1        the_talking_dead      8   Cooking  2019-01-13 04:02:13 UTC      1  \n",
       "2       Spock_Drop-n-Roll      1   Cooking  2019-01-09 17:16:26 UTC      1  \n",
       "3       AnotherDrZoidberg      4   Cooking  2019-01-09 17:55:37 UTC      1  \n",
       "4                COmarmot      1   Cooking  2019-01-01 04:24:21 UTC      1  \n",
       "..                    ...    ...       ...                      ...    ...  \n",
       "672           HarryWaters      2   Cooking  2019-01-16 18:18:22 UTC      1  \n",
       "673              Kibology      5   Cooking  2019-03-01 21:27:46 UTC      3  \n",
       "674        VegetableMovie      9   Cooking  2019-03-10 00:31:14 UTC      3  \n",
       "675       Lululemonparty_      1   Cooking  2019-03-27 12:05:55 UTC      3  \n",
       "676           LeGourmetTV     11   Cooking  2019-03-01 13:24:14 UTC      3  \n",
       "\n",
       "[677 rows x 7 columns]"
      ]
     },
     "execution_count": 8,
     "metadata": {},
     "output_type": "execute_result"
    }
   ],
   "source": [
    "data_2019 = pd.read_csv('Preprocessed_Data/2019.csv')\n",
    "data_2019"
   ]
  },
  {
   "cell_type": "code",
   "execution_count": 9,
   "metadata": {},
   "outputs": [
    {
     "data": {
      "text/plain": [
       "Text(0.5, 1.0, 'Frequency of MSG terms in 2019.')"
      ]
     },
     "execution_count": 9,
     "metadata": {},
     "output_type": "execute_result"
    },
    {
     "data": {
      "image/png": "[encoded data removed]",
      "text/plain": [
       "<Figure size 432x288 with 1 Axes>"
      ]
     },
     "metadata": {
      "needs_background": "light"
     },
     "output_type": "display_data"
    }
   ],
   "source": [
    "#MSG names bar plot\n",
    "name_freq = data_2019['match'].value_counts()\n",
    "name_freq\n",
    "plt.bar(name_freq.index,name_freq)\n",
    "plt.xticks(rotation=45, ha=\"right\")\n",
    "plt.title('Frequency of MSG terms in 2019.')"
   ]
  },
  {
   "cell_type": "code",
   "execution_count": 10,
   "metadata": {},
   "outputs": [
    {
     "data": {
      "text/plain": [
       "dopnyc                  13\n",
       "Kibology                11\n",
       "shazeaa                  9\n",
       "PurpleWomat              7\n",
       "mthmchris                7\n",
       "                        ..\n",
       "jaylow6188               1\n",
       "kperkins1982             1\n",
       "tactfulcactus            1\n",
       "throwdemawaaay           1\n",
       "notwanderingjustlost     1\n",
       "Name: author, Length: 481, dtype: int64"
      ]
     },
     "execution_count": 10,
     "metadata": {},
     "output_type": "execute_result"
    }
   ],
   "source": [
    "#Inspecting authors\n",
    "name_freq = data_2019['author'].value_counts()\n",
    "name_freq"
   ]
  },
  {
   "cell_type": "code",
   "execution_count": 11,
   "metadata": {},
   "outputs": [
    {
     "data": {
      "text/plain": [
       "Text(0.5, 1.0, 'Histogram of scores of comments mentioning MSG in 2019.')"
      ]
     },
     "execution_count": 11,
     "metadata": {},
     "output_type": "execute_result"
    },
    {
     "data": {
      "image/png": "[encoded data removed]",
      "text/plain": [
       "<Figure size 432x288 with 1 Axes>"
      ]
     },
     "metadata": {
      "needs_background": "light"
     },
     "output_type": "display_data"
    }
   ],
   "source": [
    "#Plotting score histogram\n",
    "plt.hist(data_2019['score'],bins=40)\n",
    "plt.title('Histogram of scores of comments mentioning MSG in 2019.')"
   ]
  },
  {
   "cell_type": "code",
   "execution_count": 12,
   "metadata": {},
   "outputs": [
    {
     "data": {
      "text/plain": [
       "Text(0.5, 1.0, 'Frequency of comments mentioning MSG per subreddits in 2019.')"
      ]
     },
     "execution_count": 12,
     "metadata": {},
     "output_type": "execute_result"
    },
    {
     "data": {
      "image/png": "[encoded data removed]",
      "text/plain": [
       "<Figure size 432x288 with 1 Axes>"
      ]
     },
     "metadata": {
      "needs_background": "light"
     },
     "output_type": "display_data"
    }
   ],
   "source": [
    "#Subreddit bar plot\n",
    "subreddit_freq = data_2019['subreddit'].value_counts()\n",
    "subreddit_freq\n",
    "plt.bar(subreddit_freq.index,subreddit_freq)\n",
    "plt.xticks(rotation=45, ha=\"right\")\n",
    "plt.title('Frequency of comments mentioning MSG per subreddits in 2019.')"
   ]
  },
  {
   "cell_type": "code",
   "execution_count": 13,
   "metadata": {},
   "outputs": [
    {
     "data": {
      "text/plain": [
       "Text(0.5, 1.0, 'Frequency of comments mentioning MSG per month in 2019.')"
      ]
     },
     "execution_count": 13,
     "metadata": {},
     "output_type": "execute_result"
    },
    {
     "data": {
      "image/png": "[encoded data removed]",
      "text/plain": [
       "<Figure size 432x288 with 1 Axes>"
      ]
     },
     "metadata": {
      "needs_background": "light"
     },
     "output_type": "display_data"
    }
   ],
   "source": [
    "#Subreddit bar plot\n",
    "month_freq = data_2019['month'].value_counts()\n",
    "month_freq\n",
    "plt.bar(month_freq.index,month_freq)\n",
    "plt.xticks(month_freq.index)\n",
    "plt.title('Frequency of comments mentioning MSG per month in 2019.')"
   ]
  },
  {
   "cell_type": "code",
   "execution_count": 14,
   "metadata": {},
   "outputs": [
    {
     "data": {
      "text/plain": [
       "Text(0.5, 1.0, 'Frequency of comments mentioning MSG per day in the first month of 2019.')"
      ]
     },
     "execution_count": 14,
     "metadata": {},
     "output_type": "execute_result"
    },
    {
     "data": {
      "image/png": "[encoded data removed]",
      "text/plain": [
       "<Figure size 432x288 with 1 Axes>"
      ]
     },
     "metadata": {
      "needs_background": "light"
     },
     "output_type": "display_data"
    }
   ],
   "source": [
    "#Subreddit bar plot\n",
    "data_2019_1 = data_2019[data_2019['month'] == 1]\n",
    "day_freq = pd.to_datetime(data_2019_1['time']).dt.day.value_counts()\n",
    "day_freq\n",
    "plt.bar(day_freq.index,day_freq)\n",
    "plt.xticks(day_freq.index)\n",
    "plt.xticks(rotation=45, ha=\"right\")\n",
    "plt.title('Frequency of comments mentioning MSG per day in the first month of 2019.')"
   ]
  },
  {
   "cell_type": "markdown",
   "metadata": {},
   "source": [
    "# Aggregating data for authors"
   ]
  },
  {
   "cell_type": "code",
   "execution_count": 15,
   "metadata": {},
   "outputs": [],
   "source": [
    "#Adding feature for \n",
    "data_2008['former'] = True\n",
    "data_2008['recent'] = False\n",
    "data_2019['former'] = False\n",
    "data_2019['recent'] = True\n",
    "data_combined = pd.concat([data_2008,data_2019]).reset_index(drop=True)"
   ]
  },
  {
   "cell_type": "code",
   "execution_count": 16,
   "metadata": {},
   "outputs": [],
   "source": [
    "authors_grouped = data_combined.groupby('author')"
   ]
  },
  {
   "cell_type": "code",
   "execution_count": 17,
   "metadata": {},
   "outputs": [
    {
     "ename": "NameError",
     "evalue": "name 'i' is not defined",
     "output_type": "error",
     "traceback": [
      "\u001b[0;31m---------------------------------------------------------------------------\u001b[0m",
      "\u001b[0;31mNameError\u001b[0m                                 Traceback (most recent call last)",
      "\u001b[0;32m<ipython-input-17-91e535586d89>\u001b[0m in \u001b[0;36m<module>\u001b[0;34m\u001b[0m\n\u001b[0;32m----> 1\u001b[0;31m \u001b[0mauthors_grouped\u001b[0m\u001b[0;34m[\u001b[0m\u001b[0;34m'subreddit'\u001b[0m\u001b[0;34m]\u001b[0m\u001b[0;34m.\u001b[0m\u001b[0mnth\u001b[0m\u001b[0;34m(\u001b[0m\u001b[0mi\u001b[0m\u001b[0;34m)\u001b[0m\u001b[0;34m.\u001b[0m\u001b[0mto_dict\u001b[0m\u001b[0;34m(\u001b[0m\u001b[0;34m)\u001b[0m\u001b[0;34m\u001b[0m\u001b[0;34m\u001b[0m\u001b[0m\n\u001b[0m",
      "\u001b[0;31mNameError\u001b[0m: name 'i' is not defined"
     ]
    }
   ],
   "source": [
    "authors_grouped['subreddit'].nth(i).to_dict()"
   ]
  },
  {
   "cell_type": "code",
   "execution_count": null,
   "metadata": {},
   "outputs": [],
   "source": [
    "authors = pd.DataFrame(authors_grouped['body'].agg(lambda col: '\\n\\n ____NEXT COMMENT____ \\n'.join(col)))\n",
    "authors = pd.concat([authors,authors_grouped.agg(nr_comments=('body','count'),total_score=('score','sum'),\n",
    "                 former=('former','any'),recent=('recent','any'))],axis=1)\n",
    "authors['nr_rcooking'] = 0\n",
    "authors['nr_rrecipes'] = 0\n",
    "authors['nr_rnutrition'] = 0\n",
    "for i in range(max(authors_grouped.size())):\n",
    "    for user,sub in authors_grouped['subreddit'].nth(i).to_dict().items():\n",
    "        authors[\"nr_r\"+sub.lower()][user]+=1\n",
    "authors.reset_index(inplace=True)"
   ]
  },
  {
   "cell_type": "code",
   "execution_count": null,
   "metadata": {},
   "outputs": [],
   "source": [
    "authors"
   ]
  },
  {
   "cell_type": "code",
   "execution_count": null,
   "metadata": {},
   "outputs": [],
   "source": [
    "authors[authors[['former','recent']].all(axis=1)]"
   ]
  },
  {
   "cell_type": "markdown",
   "metadata": {},
   "source": [
    "# Preparing annotation files"
   ]
  },
  {
   "cell_type": "code",
   "execution_count": null,
   "metadata": {},
   "outputs": [],
   "source": [
    "annotation_data = authors.sample(frac=1,random_state=2020)\n",
    "annotation_data['stance'] = ''"
   ]
  },
  {
   "cell_type": "code",
   "execution_count": null,
   "metadata": {},
   "outputs": [],
   "source": [
    "annotation_data"
   ]
  },
  {
   "cell_type": "code",
   "execution_count": null,
   "metadata": {},
   "outputs": [],
   "source": [
    "#creating annotation file\n",
    "annotation_data.to_csv('full_data.csv')\n",
    "annotation_data[['body','stance']].to_csv('annotation_file.csv')"
   ]
  }
 ],
 "metadata": {
  "kernelspec": {
   "display_name": "Python 3",
   "language": "python",
   "name": "python3"
  },
  "language_info": {
   "codemirror_mode": {
    "name": "ipython",
    "version": 3
   },
   "file_extension": ".py",
   "mimetype": "text/x-python",
   "name": "python",
   "nbconvert_exporter": "python",
   "pygments_lexer": "ipython3",
   "version": "3.8.3"
  }
 },
 "nbformat": 4,
 "nbformat_minor": 4
}
